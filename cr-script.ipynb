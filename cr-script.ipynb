{
 "cells": [
  {
   "cell_type": "markdown",
   "id": "66c0df0e",
   "metadata": {},
   "source": [
    "# **Costa Rica - Seizure and Homicide Data Analysis**\n",
    "#### InSight Crime - MAD Unit \n",
    "June, 2025\n",
    "\n",
    "\n",
    "---------------------\n",
    "\n"
   ]
  },
  {
   "cell_type": "markdown",
   "id": "2939a69a",
   "metadata": {},
   "source": [
    "### Introduction"
   ]
  },
  {
   "cell_type": "markdown",
   "id": "4991bf7f",
   "metadata": {},
   "source": [
    "Data:\n",
    "\n",
    "1. **Intentional Homicides in Costa Rica (2010–2024)**\n",
    "     \n",
    "\tFormatted data available [here](https://docs.google.com/spreadsheets/d/1-XG8sMyPwBXa6bdBCqqEPm2SrcHpKKn3YAHaBdyR-Lg/edit?gid=0#gid=0)  \n",
    "\tSource: [Intentional Homicides CR](https://drive.google.com/file/d/1cUswepSw-r3HLU6Be3duvjsRw329MoKg/view?ts=6841b341)\n",
    "\t\n",
    "\tNotes: There are some discrepancies in the population figures by year compared to the [INEC](https://services.inec.go.cr/proyeccionpoblacion/frmproyec.aspx) (at both national and provincial levels), but they do not affect the homicide rates per 100,000 inhabitants as reported in the source.\n",
    "\n",
    "2. **Seizure data (2018-2024)**\n",
    "   \n",
    "\tSource: [Control_de_la_Oferta_ODS_SW1 (Sheet \"8\")](https://docs.google.com/spreadsheets/d/1EhZ7hpFBpIFc375ByzMu1AIQrNnvw2FxIvXlxV5KE1E/edit?gid=661345260#gid=661345260) \n",
    "\n",
    "3. **Merged dataset**\n",
    "\n",
    "\tAvailable [here](https://github.com/FelipeVillota/costa-rica-presentation/tree/main/data/merged) \n",
    "\t\n",
    "\tNotes: Dataframes were combined considering geographic disaggregation and time. Leaving us with country-level observations/indicators, by year, from 2018-2014. This is the starting point for the analysis\n"
   ]
  },
  {
   "cell_type": "markdown",
   "id": "80d6e936",
   "metadata": {},
   "source": [
    "### Project Setup"
   ]
  },
  {
   "cell_type": "markdown",
   "id": "ac164b48",
   "metadata": {},
   "source": [
    "#### Version Control"
   ]
  },
  {
   "cell_type": "markdown",
   "id": "db7255ac",
   "metadata": {},
   "source": [
    "The project is created within a single GitHub repository ([FelipeVillota/costa-rica-presentation](https://github.com/FelipeVillota/costa-rica-presentation)). I keep the repository `private` with the possibility to give collaborator-access to the online repo at any time. "
   ]
  },
  {
   "cell_type": "markdown",
   "id": "ad16f5b0",
   "metadata": {},
   "source": [
    "#### Reproducible Environment"
   ]
  },
  {
   "cell_type": "code",
   "execution_count": 65,
   "id": "a1112678",
   "metadata": {},
   "outputs": [],
   "source": [
    "# IMPORTANT\n",
    "\n",
    "# In the Terminal, run the following commands to set up a virtual environment called `venv-cr`:\n",
    "# python -m venv venv-cr\n",
    "\n",
    "# To activate environment, run (the first is an optional, temporary auth) :\n",
    "# Set-ExecutionPolicy -Scope Process -ExecutionPolicy Bypass\n",
    "# venv-cr\\Scripts\\activate\n",
    "\n",
    "# Then select respective kernel \n",
    "\n",
    "# Update list master list\n",
    "# pip freeze > requirements.txt"
   ]
  },
  {
   "cell_type": "code",
   "execution_count": 66,
   "id": "898046a7",
   "metadata": {},
   "outputs": [
    {
     "name": "stdout",
     "output_type": "stream",
     "text": [
      "c:\\Users\\USER\\Desktop\\ic\\costa-rica\\costa-rica-presentation\\venv-cr\\Scripts\\python.exe\n"
     ]
    }
   ],
   "source": [
    "# Checking venv-db-watch works --> accept to install ipykernel package to connect to kernel if asked\n",
    "import sys\n",
    "print(sys.executable)"
   ]
  },
  {
   "cell_type": "markdown",
   "id": "802dc17a",
   "metadata": {},
   "source": [
    "#### Loading Libraries"
   ]
  },
  {
   "cell_type": "code",
   "execution_count": 67,
   "id": "793fd425",
   "metadata": {},
   "outputs": [],
   "source": [
    "# Install the required packages in the virtual environment:\n",
    "# pip install --upgrade pip\n",
    "# pip install --upgrade google-api-python-client google-auth-httplib2 google-auth-oauthlib pandas\n",
    "# pip install gspread gspread-formatting seaborn matplotlib missingno    "
   ]
  },
  {
   "cell_type": "code",
   "execution_count": 68,
   "id": "735fe917",
   "metadata": {},
   "outputs": [],
   "source": [
    "import os\n",
    "import re\n",
    "import requests\n",
    "import pandas as pd\n",
    "from datetime import datetime\n",
    "from google.oauth2 import service_account\n",
    "from googleapiclient.discovery import build\n",
    "import gspread\n",
    "from google.oauth2.service_account import Credentials\n",
    "from gspread_formatting import format_cell_ranges, CellFormat, Color\n",
    "import matplotlib.pyplot as plt\n",
    "import seaborn as sns\n",
    "import missingno as msno\n",
    "from io import BytesIO\n",
    "from openpyxl import load_workbook\n",
    "\n",
    "\n",
    "# pip freeze > requirements.txt"
   ]
  },
  {
   "cell_type": "markdown",
   "id": "4b99eeee",
   "metadata": {},
   "source": [
    "### Loading Data"
   ]
  },
  {
   "cell_type": "code",
   "execution_count": 69,
   "id": "1c637b33",
   "metadata": {},
   "outputs": [],
   "source": [
    "# Both datasets are in the repository, so we can use raw GitHub URLs to access them directly.\n",
    "# Use raw GitHub URLs\n",
    "url_homicides = \"https://github.com/FelipeVillota/costa-rica-presentation/raw/main/data/raw/homicides-2010-2024.xlsx\" # Multiple sheets \n",
    "url_seizures = \"https://github.com/FelipeVillota/costa-rica-presentation/raw/main/data/raw/seizures-2019-2024.xlsx\" # This is already the sheet we want\n",
    "\n",
    "# Get file content\n",
    "response1 = requests.get(url_homicides)\n",
    "response2 = requests.get(url_seizures)"
   ]
  },
  {
   "cell_type": "code",
   "execution_count": 70,
   "id": "1fd16654",
   "metadata": {},
   "outputs": [],
   "source": [
    "# Seizures data is already in a single sheet, so we can load it directly\n",
    "seizures_sheets = pd.read_excel(BytesIO(response2.content), engine='openpyxl', sheet_name=None)\n",
    "seizures_df = seizures_sheets['8']  \n"
   ]
  },
  {
   "cell_type": "code",
   "execution_count": 71,
   "id": "80d1de67",
   "metadata": {},
   "outputs": [],
   "source": [
    "# Homicide data is in multiple sheets, we want to load only the second sheet called \"tasa-país\"\n",
    "homicides_sheets = pd.read_excel(BytesIO(response1.content), engine='openpyxl', sheet_name=None)\n",
    "homicides_df = homicides_sheets['tasa-país']"
   ]
  },
  {
   "cell_type": "code",
   "execution_count": 72,
   "id": "f337e34c",
   "metadata": {},
   "outputs": [
    {
     "data": {
      "text/plain": [
       "{'histórico-mensual':            país         mes   año  homicidios_país_mes  \\\n",
       " 0    Costa Rica       enero  2010                   44   \n",
       " 1    Costa Rica     febrero  2010                   45   \n",
       " 2    Costa Rica       marzo  2010                   47   \n",
       " 3    Costa Rica       abril  2010                   42   \n",
       " 4    Costa Rica        mayo  2010                   39   \n",
       " ..          ...         ...   ...                  ...   \n",
       " 175  Costa Rica      agosto  2024                   75   \n",
       " 176  Costa Rica  septiembre  2024                   69   \n",
       " 177  Costa Rica     octubre  2024                   73   \n",
       " 178  Costa Rica   noviembre  2024                   73   \n",
       " 179  Costa Rica   diciembre  2024                   80   \n",
       " \n",
       "      homicidios_país_acumulado_mes  homicidios_país_año  \n",
       " 0                              756                  527  \n",
       " 1                              690                  527  \n",
       " 2                              699                  527  \n",
       " 3                              645                  527  \n",
       " 4                              701                  527  \n",
       " ..                             ...                  ...  \n",
       " 175                            789                  880  \n",
       " 176                            712                  880  \n",
       " 177                            790                  880  \n",
       " 178                            778                  880  \n",
       " 179                            769                  880  \n",
       " \n",
       " [180 rows x 6 columns],\n",
       " 'tasa-país':           país   año  homicidios_país_año  habitantes_país  tasa_100mil_país\n",
       " 0   Costa Rica  2010                  527          4533894              11.6\n",
       " 1   Costa Rica  2011                  474          4592147              10.3\n",
       " 2   Costa Rica  2012                  407          4652451               8.7\n",
       " 3   Costa Rica  2013                  411          4713164               8.7\n",
       " 4   Costa Rica  2014                  477          4773119              10.0\n",
       " 5   Costa Rica  2015                  557          4832521              11.5\n",
       " 6   Costa Rica  2016                  578          4890372              11.8\n",
       " 7   Costa Rica  2017                  603          4947481              12.2\n",
       " 8   Costa Rica  2018                  585          5003393              11.7\n",
       " 9   Costa Rica  2019                  564          5057999              11.2\n",
       " 10  Costa Rica  2020                  570          5111238              11.2\n",
       " 11  Costa Rica  2021                  588          5163038              11.4\n",
       " 12  Costa Rica  2022                  654          5213274              12.5\n",
       " 13  Costa Rica  2023                  905          5262237              17.2\n",
       " 14  Costa Rica  2024                  880          5309625              16.6,\n",
       " 'tasa-provincia':           país   provincia   año  homicidios_país_año  habitantes_país  \\\n",
       " 0   Costa Rica       Limón  2023                  905          5262237   \n",
       " 1   Costa Rica  Puntarenas  2023                  905          5262237   \n",
       " 2   Costa Rica  Guanacaste  2023                  905          5262237   \n",
       " 3   Costa Rica    San José  2023                  905          5262237   \n",
       " 4   Costa Rica     Cartago  2023                  905          5262237   \n",
       " 5   Costa Rica    Alajuela  2023                  905          5262237   \n",
       " 6   Costa Rica     Heredia  2023                  905          5262237   \n",
       " 7   Costa Rica       Limón  2024                  880          5309625   \n",
       " 8   Costa Rica  Puntarenas  2024                  880          5309625   \n",
       " 9   Costa Rica  Guanacaste  2024                  880          5309625   \n",
       " 10  Costa Rica    San José  2024                  880          5309625   \n",
       " 11  Costa Rica     Cartago  2024                  880          5309625   \n",
       " 12  Costa Rica    Alajuela  2024                  880          5309625   \n",
       " 13  Costa Rica     Heredia  2024                  880          5309625   \n",
       " \n",
       "     tasa_100mil_país  homicidios_provincia_año  habitantes_provincia  \\\n",
       " 0               17.2                       213                474527   \n",
       " 1               17.2                       149                516326   \n",
       " 2               17.2                       100                410055   \n",
       " 3               17.2                       219               1696265   \n",
       " 4               17.2                        74                550655   \n",
       " 5               17.2                       103               1068258   \n",
       " 6               17.2                        47                546139   \n",
       " 7               16.6                       181                479090   \n",
       " 8               16.6                       154                521908   \n",
       " 9               16.6                        75                415224   \n",
       " 10              16.6                       250               1706845   \n",
       " 11              16.6                        75                553463   \n",
       " 12              16.6                       106               1080565   \n",
       " 13              16.6                        39                552530   \n",
       " \n",
       "     tasa_100mil_provincia  \n",
       " 0                    44.9  \n",
       " 1                    28.9  \n",
       " 2                    24.4  \n",
       " 3                    12.9  \n",
       " 4                    13.4  \n",
       " 5                     9.6  \n",
       " 6                     8.6  \n",
       " 7                    37.8  \n",
       " 8                    29.5  \n",
       " 9                    18.1  \n",
       " 10                   14.6  \n",
       " 11                   13.6  \n",
       " 12                    9.8  \n",
       " 13                    7.1  ,\n",
       " 'homicidios-múltiples':          país   año       tipo  casos  víctimas\n",
       " 0  Costa Rica  2023      Doble   57.0     114.0\n",
       " 1  Costa Rica  2023     Triple   12.0      36.0\n",
       " 2  Costa Rica  2023  Cuádruple    2.0       8.0\n",
       " 3  Costa Rica  2023  Quíntuple    NaN       NaN\n",
       " 4  Costa Rica  2023    Óctuple    NaN       NaN\n",
       " 5  Costa Rica  2024      Doble   70.0     140.0\n",
       " 6  Costa Rica  2024     Triple   10.0      30.0\n",
       " 7  Costa Rica  2024  Cuádruple    1.0       4.0\n",
       " 8  Costa Rica  2024  Quíntuple    NaN       NaN\n",
       " 9  Costa Rica  2024    Óctuple    NaN       NaN}"
      ]
     },
     "execution_count": 72,
     "metadata": {},
     "output_type": "execute_result"
    }
   ],
   "source": [
    "# All sheets\n",
    "homicides_sheets\n"
   ]
  },
  {
   "cell_type": "code",
   "execution_count": 73,
   "id": "3068858d",
   "metadata": {},
   "outputs": [
    {
     "name": "stdout",
     "output_type": "stream",
     "text": [
      "         País Provincia    Cantón     Distrito   Cocaína Eventos  \\\n",
      "0  Costa Rica  Alajuela  Alajuela     Alajuela             161.0   \n",
      "1  Costa Rica  Alajuela  Alajuela     San José             144.0   \n",
      "2  Costa Rica  Alajuela  Alajuela     Carrizal               9.0   \n",
      "3  Costa Rica  Alajuela  Alajuela  San Antonio              34.0   \n",
      "4  Costa Rica  Alajuela  Alajuela      Guácima              51.0   \n",
      "\n",
      "   Cocaína (kg)  Crack Eventos  Crack (piedras)  Marihuana Eventos  \\\n",
      "0       0.05825          370.0      6644.400000              769.0   \n",
      "1       0.70250          289.0     10406.666667              478.0   \n",
      "2       0.00625            9.0       204.000000               21.0   \n",
      "3       0.32975           60.0       913.333333              449.0   \n",
      "4       0.93440          155.0      5812.333333              450.0   \n",
      "\n",
      "   Marihuana (kg)     Año  \n",
      "0        14.33302  2019.0  \n",
      "1         1.45790  2019.0  \n",
      "2         0.03950  2019.0  \n",
      "3         1.06203  2019.0  \n",
      "4         2.08663  2019.0  \n"
     ]
    }
   ],
   "source": [
    "print(seizures_df.head())\n"
   ]
  },
  {
   "cell_type": "code",
   "execution_count": 74,
   "id": "397170da",
   "metadata": {},
   "outputs": [],
   "source": [
    "# Now we want to merge the two datasets on the year column.\n",
    " \n",
    "# But first, we need to ensure that the year columns in both datasets are in the same format.\n",
    "homicides_df['año'] = pd.to_datetime(homicides_df['año'], errors='coerce', format='%Y').dt.year\n",
    "seizures_df['Año'] = pd.to_datetime(seizures_df['Año'], format='%Y').dt.year\n",
    "\n",
    "# And change the column name to match\n",
    "homicides_df.rename(columns={'año': 'year'}, inplace=True)\n",
    "seizures_df.rename(columns={'Año': 'year'}, inplace=True)\n"
   ]
  },
  {
   "cell_type": "code",
   "execution_count": 75,
   "id": "29e6c4f1",
   "metadata": {},
   "outputs": [],
   "source": [
    "# seizure data is showing values like 2019.0, so we need to convert it to int\n",
    "seizures_df['year'] = seizures_df['year'].astype('Int64')"
   ]
  },
  {
   "cell_type": "code",
   "execution_count": 76,
   "id": "fd75ffa6",
   "metadata": {},
   "outputs": [],
   "source": [
    "# Now we can merge the two datasets on the 'year' column.\n",
    "merged_df = pd.merge(homicides_df, seizures_df, on='year', how='outer')"
   ]
  },
  {
   "cell_type": "code",
   "execution_count": 77,
   "id": "91280e7d",
   "metadata": {},
   "outputs": [],
   "source": [
    "# To keep it simple, we keep only record from 2018 to 2024\n",
    "merged_df = merged_df[merged_df['year'] >= 2018]"
   ]
  },
  {
   "cell_type": "code",
   "execution_count": 91,
   "id": "5c8d4e41",
   "metadata": {},
   "outputs": [
    {
     "name": "stdout",
     "output_type": "stream",
     "text": [
      "<class 'pandas.core.frame.DataFrame'>\n",
      "Index: 3398 entries, 8 to 3405\n",
      "Data columns (total 14 columns):\n",
      " #   Column               Non-Null Count  Dtype  \n",
      "---  ------               --------------  -----  \n",
      " 0   país                 3398 non-null   object \n",
      " 1   provincia            3398 non-null   object \n",
      " 2   cantón               3398 non-null   object \n",
      " 3   distrito             3398 non-null   object \n",
      " 4   year                 3398 non-null   Int64  \n",
      " 5   habitantes_país      3398 non-null   float64\n",
      " 6   homicidios_país_año  3398 non-null   float64\n",
      " 7   tasa_100mil_país     3398 non-null   float64\n",
      " 8   cocaína_eventos      3398 non-null   float64\n",
      " 9   cocaína_(kg)         3398 non-null   float64\n",
      " 10  crack_eventos        3398 non-null   float64\n",
      " 11  crack_(piedras)      3398 non-null   float64\n",
      " 12  marihuana_eventos    3398 non-null   float64\n",
      " 13  marihuana_(kg)       3398 non-null   float64\n",
      "dtypes: Int64(1), float64(9), object(4)\n",
      "memory usage: 401.5+ KB\n",
      "None\n"
     ]
    }
   ],
   "source": [
    "merged_df.head()\n",
    "print(merged_df.info())\n",
    "\n",
    "# Now we can save the merged dataset to a new Excel file.\n",
    "def save_merged_df(merged_df, output_path='data/merged/merged_data-2018-2024.xlsx'):\n",
    "    merged_df.to_excel(output_path, index=False)\n",
    "save_merged_df(merged_df)"
   ]
  },
  {
   "cell_type": "markdown",
   "id": "8fb864c5",
   "metadata": {},
   "source": [
    "### Execution"
   ]
  },
  {
   "cell_type": "markdown",
   "id": "d4b73750",
   "metadata": {},
   "source": [
    "#### Pre-processing"
   ]
  },
  {
   "cell_type": "code",
   "execution_count": 79,
   "id": "3ced22bd",
   "metadata": {},
   "outputs": [
    {
     "name": "stdout",
     "output_type": "stream",
     "text": [
      "✓ Converted empty strings/whitespace to NA values\n"
     ]
    }
   ],
   "source": [
    "# Format Missing/Invalid Values\n",
    "\n",
    "merged_df = merged_df.replace('', pd.NA)  # Convert empty strings to NA\n",
    "merged_df = merged_df.replace(r'^\\s*$', pd.NA, regex=True)  # Convert whitespace to NA\n",
    "print(\"✓ Converted empty strings/whitespace to NA values\")"
   ]
  },
  {
   "cell_type": "code",
   "execution_count": 80,
   "id": "f49fd5ff",
   "metadata": {},
   "outputs": [
    {
     "name": "stdout",
     "output_type": "stream",
     "text": [
      "<class 'pandas.core.frame.DataFrame'>\n",
      "Index: 3398 entries, 8 to 3405\n",
      "Data columns (total 15 columns):\n",
      " #   Column               Non-Null Count  Dtype  \n",
      "---  ------               --------------  -----  \n",
      " 0   país                 3398 non-null   object \n",
      " 1   year                 3398 non-null   Int64  \n",
      " 2   homicidios_país_año  3398 non-null   float64\n",
      " 3   habitantes_país      3398 non-null   float64\n",
      " 4   tasa_100mil_país     3398 non-null   float64\n",
      " 5   país                 3398 non-null   object \n",
      " 6   provincia            3398 non-null   object \n",
      " 7   cantón               3398 non-null   object \n",
      " 8   distrito             3398 non-null   object \n",
      " 9   cocaína_eventos      3398 non-null   float64\n",
      " 10  cocaína_(kg)         3398 non-null   float64\n",
      " 11  crack_eventos        3398 non-null   float64\n",
      " 12  crack_(piedras)      3398 non-null   float64\n",
      " 13  marihuana_eventos    3398 non-null   float64\n",
      " 14  marihuana_(kg)       3398 non-null   float64\n",
      "dtypes: Int64(1), float64(9), object(5)\n",
      "memory usage: 428.1+ KB\n",
      "None\n"
     ]
    }
   ],
   "source": [
    "# Lowercase column names and put _ between words\n",
    "merged_df.columns = [col.lower() for col in merged_df.columns]\n",
    "\n",
    "# Remove spaces left and right\n",
    "merged_df.columns = merged_df.columns.str.strip()\n",
    "\n",
    "#  put _ between words\n",
    "merged_df.columns = [re.sub(r'\\s+', '_', col.lower()) for col in merged_df.columns]\n",
    "\n",
    "print(merged_df.info())"
   ]
  },
  {
   "cell_type": "code",
   "execution_count": 88,
   "id": "1caf8104",
   "metadata": {},
   "outputs": [],
   "source": [
    "# Drop the second (duplicated) 'país' column\n",
    "merged_df = merged_df.loc[:, ~merged_df.columns.duplicated()]\n",
    "\n",
    "# Arrange columns in a more logical order \n",
    "\n",
    "column_order = [\n",
    "    'país', 'provincia', 'cantón', 'distrito', 'year',\n",
    "    'habitantes_país', 'homicidios_país_año', 'tasa_100mil_país',\n",
    "    'cocaína_eventos', 'cocaína_(kg)',\n",
    "    'crack_eventos', 'crack_(piedras)',\n",
    "    'marihuana_eventos', 'marihuana_(kg)'\n",
    "]\n",
    "merged_df = merged_df[column_order]"
   ]
  },
  {
   "cell_type": "markdown",
   "id": "ba68aa90",
   "metadata": {},
   "source": [
    "### Exploratory Data Analysis"
   ]
  },
  {
   "cell_type": "markdown",
   "id": "b3719617",
   "metadata": {},
   "source": [
    "##### Summary Stats"
   ]
  },
  {
   "cell_type": "code",
   "execution_count": 89,
   "id": "2d07f2e6",
   "metadata": {},
   "outputs": [
    {
     "name": "stdout",
     "output_type": "stream",
     "text": [
      "✓ Summary saved to data/results/merged_summary-2018-2024.xlsx\n",
      "=== GENERAL DATAFRAME INFO ===\n",
      "Shape: 3398 rows × 14 cols\n",
      "Memory Usage: 1.11 MB\n",
      "Columns with NA: 0 / 14\n",
      "Duplicate Rows: 0 (0.0%)\n",
      "Numeric Columns: 10\n",
      "Categorical Columns: 4\n",
      "Datetime Columns: 0\n",
      "\n",
      "=== COLUMN-LEVEL STATISTICS ===\n"
     ]
    },
    {
     "data": {
      "application/vnd.microsoft.datawrangler.viewer.v0+json": {
       "columns": [
        {
         "name": "index",
         "rawType": "int64",
         "type": "integer"
        },
        {
         "name": "Variable",
         "rawType": "object",
         "type": "string"
        },
        {
         "name": "Dtype",
         "rawType": "object",
         "type": "unknown"
        },
        {
         "name": "Unique_Count",
         "rawType": "int64",
         "type": "integer"
        },
        {
         "name": "NA_Count",
         "rawType": "int64",
         "type": "integer"
        },
        {
         "name": "NA_Percentage",
         "rawType": "object",
         "type": "string"
        },
        {
         "name": "Duplicate_Count",
         "rawType": "int64",
         "type": "integer"
        },
        {
         "name": "Duplicate_Percentage",
         "rawType": "object",
         "type": "string"
        },
        {
         "name": "Unique_Values",
         "rawType": "object",
         "type": "unknown"
        }
       ],
       "ref": "d2ab79cd-652a-4f36-a343-cba0cb063984",
       "rows": [
        [
         "13",
         "marihuana_(kg)",
         "float64",
         "2651",
         "0",
         "0.0%",
         "976",
         "28.7%",
         "[3.79137949254408, 8.64565, 0.13497, 1.28543, 1.95155, 17.03652, 0.1107, 21.27215, 8.04108, 0.26474, 0.16885, 1.04725, 0.062, 0.11115, 7.09956, 0.0772, 0.3799, 0.01405, 0.00805, 0.14972, 0.0434, 0.0295, 0.0353, 0.003, 0.025, 0.0, 0.0607, 1.03155, 0.0694, 0.19045, 0.1399, 0.16505, 0.2322, 0.09355, 0.0485, 0.03905, 0.02755, 0.01315, 0.59141, 0.4105, 0.0154, 0.03615, 0.09, 0.79245, 0.05595, 0.0161, 0.71269, 0.19205, 0.0135, 0.03, 0.16405, 0.016, 0.208, 0.0628, 0.74678, 0.36881, 0.65668, 0.015, 0.05491, 0.28455, 0.07605, 0.63013, 0.06785, 0.0355, 0.19229, 0.08865, 2.12345474627204, 0.0551, 0.0737, 0.60477, 0.0804, 3.70857, 0.16385, 1.0214, 0.1342, 0.32132, 0.83187, 0.12864, 1.27345, 0.0005, 0.18185, 0.00885, 0.20905, 0.13345, 0.0286, 0.009, 0.004, 0.2876, 1.416, 0.0502, 0.029, 0.38815, 0.0261, 0.02705, 0.04115, 0.006, 0.033, 0.506, 0.03155, 0.1135, 0.0155, 0.0185, 0.12815, 0.00055, 0.0152, 0.0546, 1.52049, 1.71329, 0.33207, 0.7845, 1.01465, 1.56885, 0.91283, 0.45855, 0.0916, 0.1646, 0.24555, 0.99303, 0.2467, 0.1829, 0.1179, 0.71788, 27.5567, 3.10945, 0.2457, 0.3149, 18.82755, 0.6652, 0.0345, 0.34835, 0.11833, 0.51663, 0.13865, 1.63975, 0.2975, 0.151, 0.078, 0.62, 0.0225, 0.1111, 0.0325, 0.1588, 0.34435, 0.18853, 0.0775, 0.83475, 0.50285, 0.0552, 0.031, 0.017, 1.6175, 0.51181, 0.13805, 8.53037, 0.0856, 0.00265, 0.06005, 0.00905, 0.72515, 0.18, 0.03825, 0.018, 0.4451, 1.30795, 1.14079, 0.0123, 0.06905, 1.0212, 0.0462, 0.00405, 0.12285, 0.5958, 1.57284, 0.3305, 0.0156, 0.04565, 1.55695, 0.17795, 1.29431, 0.0942, 0.791, 0.0481, 1.3652, 0.045, 0.01635, 0.08995, 0.2432, 0.0129, 0.0145, 0.0045, 0.12085, 0.27435, 0.38465, 0.1729, 0.1876, 0.002, 0.06045, 0.0659, 0.4217, 4.58085, 500.27635, 3.2979, 933.51395, 0.65599, 1.10375, 0.10705, 0.10685, 0.364, 0.35125, 0.5829, 0.11975, 0.4128, 0.14055, 0.1212, 0.29205, 0.055, 0.0308, 1.26085, 0.0578, 0.1923, 0.1214, 0.0241, 0.0494, 0.635, 0.36155, 0.57998, 0.64017, 0.15915, 0.40558, 8.2819, 0.23159, 0.0875, 1.22175, 0.3564, 0.3416, 0.34075, 0.08135, 0.11, 1.7685, 0.32751, 1.13127, 0.186, 0.57155, 0.0125, 0.0051, 2929.9819, 29.12347, 3.36805, 0.72615, 333.8008, 0.38646, 0.44389, 0.73057, 3.10637, 0.6412, 0.11275, 2.17568, 0.16065, 0.08769, 0.05231, 0.4881, 0.17367, 0.2416, 1.0554, 2.11059, 2.2764, 0.70084, 15.02198, 28.08011, 10.44005, 1.65205, 0.245065, 0.2921, 0.83535, 0.0065, 0.1561, 0.01605, 0.0606, 0.073, 2.2442, 0.89105, 0.54735, 0.3127, 0.00255, 0.0105, 1.9154, 8.79085, 0.1235, 0.31941, 0.0715, 0.0115, 0.4879, 0.03455, 0.01355, 0.0015, 0.16955, 0.0025, 0.4413, 0.75515, 7.74005, 0.3913, 0.01775, 737.0, 1.2077, 0.08085, 0.0816, 8.3336, 5.8853, 3.3023, 0.11695, 0.1477, 0.28805, 0.17857, 0.08, 0.76806, 0.59178, 0.15408, 0.3944, 0.1034, 5.779, 0.3853, 4.43292, 8.90475, 6.21658, 7.44049, 0.66275, 0.651554238816125, 40.37365, 18.26068, 6.07827, 2.9258, 2.8189, 0.5705, 0.5265, 14.763, 2.75237, 1.63184, 0.74775, 0.47605, 1.24815, 0.0114, 0.0878, 2.7324, 0.6602, 0.17515, 2.50695, 1.91646, 0.12146, 0.18753, 0.02165, 0.01145, 0.00685, 0.09866, 0.0162, 0.1188, 0.00655, 7.6638, 0.09285, 0.1352, 0.1652, 0.0172, 0.3822, 2.6822, 0.59935, 0.36795, 0.032, 0.0151, 0.9914, 0.41255, 0.6628, 0.2026, 1.25359, 0.08611, 2.96394, 0.82075, 1.9574, 0.34525, 0.38545, 1.6707, 1.522, 0.43995, 0.1076, 3.45739, 1.58375, 1.0955, 0.03805, 0.70025, 0.2692, 0.04515, 0.58575, 0.0166, 0.10069, 0.01362, 0.0031, 1.07846, 10.93715, 0.0817, 1.67546, 1.2472, 78.81624, 0.20275, 1.02114, 3.46489, 0.3179, 0.0275, 2.355, 0.06295, 0.023, 0.0549, 0.1611, 0.00855, 0.005, 4.2658, 1.0259, 0.07525, 0.36705, 2.19755, 0.0281, 0.4465, 0.024, 0.0449, 0.001, 0.1241, 0.0024, 0.0117, 0.64885, 14.33302, 1.4579, 0.0395, 1.06203, 2.08663, 0.3182, 1.61425, 17.16383, 0.5088, 0.39253, 1.3621, 0.3616, 0.03585, 1.84088, 0.1992, 0.22825, 0.0565, 0.12375, 0.27715, 0.2048, 0.0075, 0.0333, 0.11682, 1.1941, 0.2501, 0.046, 0.0745, 0.24165, 0.28615, 0.20305, 2.52055, 0.03785, 0.0086, 0.49209, 0.10153, 0.089, 0.0133, 0.1126, 0.01214, 0.05125, 0.0167, 0.7801, 0.22594, 0.0195, 0.014, 0.06011, 0.02335, 0.339, 0.0425, 0.4358, 0.29105, 0.2516, 0.021, 0.0291, 0.26105, 0.0516, 1.36892, 0.0298, 0.0645, 0.1637, 0.052, 9.06527, 0.11782, 0.1087, 1.56285, 0.05, 1.05708, 0.92677, 0.41079, 0.13756, 0.36813, 0.86294, 0.087, 0.09116, 0.0046, 0.32005, 0.037, 0.7482, 0.5655, 0.0233, 0.1942, 0.0305, 0.01335, 0.0168, 1.68591, 0.0301, 0.04, 0.4579, 0.01, 0.011, 0.02095, 0.17695, 0.05931, 0.16995, 0.05591, 1.57919, 4.292, 0.3675, 0.45844, 1.54843, 0.92443, 0.16, 0.1859, 0.12055, 0.0106, 0.494, 3.48208, 0.24755, 0.2112, 0.13505, 0.74645, 33.94066, 1.66385, 0.1096, 11.1813, 1.1751, 0.37484, 0.0981, 0.32375, 0.0852, 0.34275, 0.3705, 1.38102, 0.3338, 0.067, 0.10394, 0.019, 0.18005, 0.04955, 0.1045, 0.14885, 0.56231, 2.8144, 0.20015, 0.1233, 0.0368, 0.0095, 2.13448, 0.74275, 0.242, 11.54455, 0.0235, 0.04305, 0.0213, 0.8151, 0.09376, 0.026, 1.06455, 0.21595, 0.329, 0.9445, 0.02505, 0.14655, 1.16099, 0.04395, 0.34905, 1.58585, 0.72435, 0.05915, 0.0421, 0.32294, 0.22095, 1.57269, 0.15781, 4.50498, 0.02865, 1.12426, 0.14595, 4.45175, 0.07505, 3.7629, 0.008, 0.00665, 0.5997, 0.08235, 9.58858, 0.45209, 0.07805, 0.33696, 0.0116, 0.0067, 0.1012, 1.91865, 0.44855, 4.33629, 162.01095, 0.02, 0.3864, 2.63535, 0.04435, 0.06809, 0.1361, 0.11905, 0.16715, 0.0588, 0.4458, 0.0725, 0.3282, 0.2954, 0.1054, 0.084, 0.10035, 0.0189, 0.04525, 0.5364, 0.59602, 0.1408, 1.19605, 0.0719, 4.08275, 2.82646, 0.0664, 0.02578, 0.3818, 0.1551, 4.14275, 0.12872, 0.02085, 0.48855, 0.85645, 0.08401, 0.47113, 0.03735, 1.8863, 0.00105, 1762.19593, 1.7911, 1.9429, 1.73858, 33.08159, 1.66035, 0.9711, 3.47617, 4.5613, 0.20322, 0.1916, 2073.73238, 1.11621, 0.04965, 0.11336, 0.78564, 0.2172, 0.2071, 32.30685, 25.062, 16.72, 3.06446, 10.09937, 4612.93088, 1.83878, 0.33952, 0.4003, 1.42445, 0.0463, 1.1111, 0.3611, 0.48315, 0.0306, 0.8022, 0.283, 3.63676, 0.94715, 4.0963, 0.974, 0.22269, 0.1344, 0.0207, 0.4809, 0.1104, 0.0085, 0.24585, 0.16711, 0.14785, 0.5128, 0.01305, 1.42734, 0.1612, 1046.6502, 1.83409, 10.0225, 0.0506, 69.43719, 0.27975, 4.002, 0.0665, 2.14835, 0.3972, 0.0909, 0.27405, 554.8847, 0.485, 0.08685, 0.26655, 7.54356, 0.83608, 5.16855, 5.57995, 6.08861, 6.22602, 2.07955, 1.39679, 2.34369, 2.10218, 6.3521, 4.67547, 3.54652, 0.41993, 3.57732, 0.82818, 1.95072, 1.32396, 0.73605, 0.4207, 0.20608, 0.02375, 1.06166, 0.01805, 0.36525, 0.80935, 0.71055, 1.06428, 0.32991, 0.10189, 0.12768, 0.0096, 0.00455, 0.00505, 0.06195, 0.022, 0.4776, 0.0653, 1.24207, 0.058, 0.1439, 0.03435, 0.72265, 1.72429, 0.88865, 0.12065, 0.012, 0.01175, 1.46766, 0.0813, 0.3175, 0.15284, 0.48939, 0.0602, 1.90355, 1.20955, 5.25248, 1.5596, 0.2916, 0.4453, 0.102, 1.63811, 0.23719, 0.28721, 1.23252, 1.31247, 0.6432, 0.09375, 0.42733, 0.66215, 0.09105, 0.68035, 0.00315, 0.146, 0.0315, 0.71566, 0.3517, 0.18205, 4.337, 1418.16325, 1.1573, 0.1152, 0.4013, 3.55431, 0.16594, 0.05065, 0.1539, 0.01155, 0.0531, 0.34943, 0.17509, 0.7617, 0.21425, 0.14967, 0.49635, 4.1684, 0.0666, 2.60465, 0.09985, 0.0375, 0.116, 0.26605, 0.08505, 0.049, 1.03065, 0.0035, 0.113, 4438.015, 5.0658, 3.41163, 3.3393, 0.0637, 6.098, 0.5611, 0.1712, 0.184, 5.31106, 1567.05241, 0.92845, 0.1892, 0.76615, 0.08415, 0.03015, 9.3121, 0.03894, 0.20435, 0.10885, 0.0724, 0.2163, 0.0332, 0.1655, 2.7998, 0.028, 0.0545, 0.2189, 0.1424, 0.61015, 0.36905, 0.04765, 0.1115, 0.0915, 3.8889, 0.05375, 0.0199, 0.17755, 0.1294, 0.0205, 0.0206, 0.0678, 0.01205, 0.02665, 2.52005, 0.3284, 0.0415, 0.0377, 0.28308, 0.169, 0.26055, 0.2313, 0.26075, 0.0399, 0.15365, 0.16975, 0.27598, 0.1566, 16.81575, 0.05555, 0.9609, 0.07932, 0.02965, 200.70425, 0.0302, 1.07605, 0.1093, 2.1596, 0.0815, 0.4199, 0.94197, 0.0394, 0.16875, 0.13855, 2.17515, 0.28025, 0.1972, 0.39945, 0.03005, 0.1113, 0.522, 0.0055, 0.0255, 0.39585, 0.00355, 0.244, 1.28925, 0.213, 0.1549, 2.7076, 1.20296, 0.3953, 1.46019, 6.28045, 0.56098, 0.1304, 0.02395, 0.14524, 0.52142, 1.21768, 0.05035, 0.2455, 0.3235, 0.9661, 18.33298, 1.75183, 0.21588, 3.50535, 0.75405, 0.36909, 0.07911, 0.45548, 0.19505, 0.61195, 1.0413, 0.3725, 0.06205, 5.0925, 0.0335, 0.1031, 0.02155, 0.10355, 0.61358, 0.194, 1.5047, 0.31375, 1.5158, 0.34482, 0.23715, 104.58248, 0.24956, 0.0171, 0.0131, 1.13392, 0.23545, 0.04105, 0.484, 0.10905, 0.17935, 1.98401, 0.13064, 0.6779, 0.1105, 0.04725, 4.90865, 1.41554, 0.64705, 0.04265, 0.19608, 0.1226, 1.65843, 0.45985, 0.76948, 0.0448, 20.95666, 0.24175, 65.32788, 0.2222, 2.22185, 0.07645, 0.06705, 0.1941, 0.05285, 0.57495, 0.0507, 0.1998, 0.29405, 0.1548, 0.07385, 0.25255, 1.03478, 0.219, 2.21084, 0.86962, 1.0265, 0.57974, 0.05745, 0.2686, 0.18795, 0.1219, 0.0282, 0.00205, 0.60417, 0.074, 0.2144, 0.04844, 0.1429, 0.13065, 0.034, 0.0652, 0.30297, 0.4549, 0.066, 0.5118, 0.0963, 0.62408, 45.30101, 0.16717, 0.01822, 0.1287, 0.34952, 0.2009, 0.26985, 0.0245, 0.22875, 0.1014, 3.85994, 0.6467, 0.92847, 2.0195, 20.56856, 2.36355, 0.2715, 0.736, 3.87926, 0.38415, 1.04487, 1.09008, 3.15486, 0.86965, 0.48569, 20.26103, 20.54677, 0.0822, 0.085, 0.22275, 0.06, 0.85467, 0.2683, 1.29375, 1.5595, 0.29805, 0.8756, 0.52255, 20.68339, 0.26035, 0.63429, 0.4694, 511.24105, 0.03255, 0.2844, 0.13415, 0.00305, 1.351, 0.2327, 2.694, 2.58265, 1.4885, 9.4989, 0.42459, 0.119, 0.0895, 0.10755, 0.0071, 0.47274, 0.28355, 1.52805, 0.0839, 996.5576, 1.45652, 0.1509, 97.172, 633.11716, 335.06459, 0.0669, 531.2621, 0.15845, 10.11555, 0.2035, 0.35326, 0.27633, 0.2205, 0.11572, 0.0323, 0.5561, 4.5879, 0.8156, 0.17865, 0.39028, 1.22275, 5.63184, 0.26323, 1.38424, 3.22804, 4.3902, 4.63412, 3.16236, 2.38041, 1.74343, 0.28895, 3.72883, 3.98702, 16.4725, 0.93265, 0.50959, 2.56804, 1.73286, 2.95685, 0.9637, 2.08515, 0.1413, 0.19425, 0.48493, 3.23438, 0.34671, 1.09199, 0.16645, 0.1064, 0.03272, 0.02303, 0.01767, 0.0257, 0.0215, 0.09018, 0.0267, 1.00363, 0.03995, 0.1232, 0.0028, 0.64785, 1.30405, 0.9071, 0.21942, 0.01925, 12.18807, 0.06695, 0.29797, 0.89061, 0.2507, 0.0216, 1.49127, 0.44116, 0.3579, 0.47873, 0.1873, 0.14826, 0.40296, 1.0133, 0.1665, 0.15345, 0.86882, 1.27695, 0.31083, 6.84805, 0.24164, 0.33718, 0.162, 0.81915, 2.12445, 0.007, 0.0265, 0.5153, 0.44627, 0.18821, 2.93502, 1.05309, 1.02092, 0.13088, 0.24124, 1.47944, 0.6327, 0.4589, 0.11358, 0.0654, 0.0069, 0.07199, 0.19411, 2.73675, 0.14765, 0.06678, 0.55545, 1.5532, 0.0651, 0.54475, 0.04705, 0.0825, 0.2025, 0.09405, 0.0465, 0.0484, 6649.29, 259.03, 3.47871, 0.02855, 1.00275, 0.115, 13.47096, 3.84365, 0.45955, 0.0907, 3.25498, 1.3174, 0.32795, 0.2618, 0.02283, 0.0505, 0.0432, 0.01255, 0.0253, 0.07615, 0.26545, 0.7303, 0.0713, 0.18206, 0.0078, 0.2232, 0.0885, 0.12765, 0.4745, 0.0385, 0.4014, 0.53875, 0.0717, 0.0735, 0.0288, 0.08775, 0.70133, 0.0523, 0.95043, 0.14305, 0.24505, 0.09065, 0.4064, 0.0585, 0.2789, 0.25431, 0.155, 0.0622, 0.42866, 0.08571, 0.07055, 0.043, 0.06055, 0.30705, 0.64978, 5.83775, 0.06155, 0.33755, 0.1275, 0.32625, 1.53661, 0.41455, 0.02585, 0.0251, 0.20005, 0.153, 0.04415, 0.2808, 0.5068, 0.21645, 0.2915, 1.93585, 0.0943, 0.02145, 0.0376, 0.02615, 0.07685, 0.1368, 0.0285, 0.0455, 0.0023, 0.0366, 0.16424, 0.0624, 1.75312, 0.30125, 0.2755, 0.12505, 0.70775, 0.05495, 1.03645, 1.21767, 0.21755, 0.92765, 0.0766, 0.88395, 0.35551, 0.1341, 0.0802, 0.05055, 0.0962, 0.9541, 0.2021, 0.40435, 0.98847, 0.1689, 0.4256, 0.19455, 0.4043, 0.73, 0.19015, 0.0101, 21.1772, 0.15175, 0.88424, 0.15464, 0.66323, 0.05115, 0.13177, 0.19, 0.18375, 0.3225, 1.84496, 1415.2059, 15169.2263, 0.10295, 1.99379, 27.04753, 0.00555, 0.41151, 0.05215, 0.01055, 1.98528, 0.16155, 0.0792, 0.06435, 0.55255, 0.0757, 0.13005, 0.2861, 0.0263, 0.0451, 329.40775, 0.0631, 504.83516, 0.0061, 0.0513, 0.45421, 0.0209, 0.7016, 0.04555, 0.23257, 2.16282, 0.50947, 0.0175, 0.84738, 0.5984, 0.01465, 0.06985, 1.13648, 1.77019, 0.6206, 0.28095, 2.37253, 0.0043, 0.09997, 1.76561, 1.0952, 0.20645, 0.0318, 0.0623, 0.01855, 0.34805, 0.27698, 1.06582, 0.4414, 0.1084, 0.47307, 0.14088, 1.1611, 0.37005, 38.37775, 0.62481, 0.24116, 0.06068, 0.17994, 1.3058, 0.0239, 0.22669, 0.89588, 0.05906, 0.55381, 0.52138, 0.14145, 0.13496, 0.5356, 3.34105, 0.1008, 0.8708, 0.317, 0.19365, 0.15113, 0.0709, 0.10689, 1.41093, 0.02797, 0.14753, 0.50306, 0.0219, 3.95475, 0.29055, 0.93525, 0.3713, 1.7813, 17.17816, 2.61855, 2.2832, 0.8502, 4.86925, 0.2246, 2.91278, 0.0581, 6.50213, 1.07825, 0.05675, 1.18944, 0.35973, 0.2971, 0.1489, 0.21355, 3.7772, 4.69375, 2.6721, 0.9833, 0.1157, 89.3, 0.027, 1.8425, 0.0937, 0.0165, 0.83584, 1.84707, 0.6415, 1.5927, 0.2176, 0.02655, 1.60165, 0.01005, 0.4215, 5.38405, 0.383, 1.51711, 0.0691, 0.1156, 0.1065, 1.7719, 0.16551, 0.44725, 1.86216, 0.0842, 0.2837, 0.17525, 1.11483, 3603.8054, 0.1191, 1.77555, 0.07705, 0.8096, 0.21995, 1.5226, 2.30435, 0.5211, 1.00255, 4.31562, 2.8711, 0.0591, 11.87135, 1.71625, 0.2598, 0.0897, 1.8651, 0.04702, 0.34456, 1.08396, 1.12042, 0.15895, 1.314, 0.5812, 1.26785, 0.0138, 0.22505, 0.0784, 0.05605, 0.054, 0.8995, 0.28375, 0.84885, 0.74754, 0.61915, 1.8208, 0.04855, 0.14625, 0.75255, 0.8181, 0.0056, 0.48385, 0.56115, 3.70988, 0.782, 0.1752, 0.14002, 0.4747, 0.59905, 1.2068, 0.49089, 0.88503, 1.02815, 0.25132, 1.71793, 0.00155, 0.0157, 0.0036, 0.27225, 0.91468, 0.17375, 3.26305, 0.1505, 0.0197, 0.33358, 0.55269, 0.30253, 1.45568, 0.0573, 0.9522, 0.12535, 5.133, 0.2725, 1.012, 0.07276, 15.33155, 0.03305, 0.03265, 0.03241, 0.02495, 0.22055, 5.01504, 1.884, 8.40082, 4.74533000000001, 0.6444, 6.62111, 4.96998, 1.8118, 3.95413, 1.84951, 4.18291, 2.72571, 0.36824, 2.45408, 0.36706, 0.45524, 0.27201, 0.00635, 0.05672, 0.0618, 0.17318, 0.77524, 0.37021, 6.56386, 0.37094, 0.05975, 0.02355, 0.2365, 0.32085, 1.05428, 0.60935, 0.13755, 2.89805, 2.00465, 0.06665, 0.5851, 4.3248, 2.77515, 0.14985, 1.95476, 10.760856, 0.71098, 0.5681, 10.14018, 1.29265, 0.05505, 3.4819, 0.09025, 0.03525, 0.1312, 0.13896, 12.30067, 0.0311, 0.09715, 0.1073, 5.64305, 0.74172, 0.0974, 0.07715, 0.2226, 0.1469, 0.0313, 0.00755, 0.03765, 0.0098, 0.62526, 0.1787, 0.03205, 3.23325, 0.12705, 0.44608, 0.1137, 0.15337, 0.068, 0.0756, 0.0589, 0.23045, 0.13665, 0.2747, 0.14555, 1.66607, 0.0073, 0.83247, 4.95543, 0.01284, 1.0001, 0.2956, 0.18425, 0.0598, 0.32326, 0.9742, 0.0575, 0.0998, 1.65578, 0.2298, 0.7346, 0.2832, 0.30835, 0.05705, 0.48191, 0.1763, 0.08155, 1.87508, 0.75198, 0.34869, 0.74561, 2.23949, 0.9175, 0.11055, 0.48015, 0.13405, 7.60496, 4.94828, 0.83304, 32.29195, 1.40307, 0.1574, 0.2437, 1.3843, 0.19285, 0.0812, 1.26097, 8.04115, 0.1182, 0.07045, 1.52948, 0.2036, 0.01555, 0.24343, 0.156, 0.07115, 0.15755, 0.1976, 0.0107, 0.31548, 0.26835, 0.00967, 0.02273, 3.86195, 0.30875, 3180.48402, 0.0386, 0.01095, 0.07211, 0.0563, 1.12857, 0.0214, 0.08265, 0.09588, 0.34175, 0.2361, 17.09596, 0.8691, 0.26547, 0.04505, 0.0608, 1.95356, 2.45752, 1.5457, 0.74835, 0.0668, 0.75398, 0.24, 6.72561, 0.14805, 12.00834, 0.02105, 6.28814, 1.084, 2.36286, 3.01036, 0.06355, 0.04695, 0.18614, 0.04455, 0.42635, 0.1609, 1.03585, 0.02975, 0.1932, 0.09132, 2.60265, 0.14677, 2.88944, 5.61742, 0.08795, 0.0599, 3.83255, 0.44439, 0.217, 0.06358, 0.05885, 0.28072, 0.05965, 0.28797, 0.10303, 0.1578, 5.0065, 0.81358, 0.98256, 0.11495, 0.39354, 0.14709, 3.37167, 0.30271, 0.24989, 0.05539, 0.33027, 0.8103, 0.2508, 0.62794, 4.99775, 0.07395, 0.21842, 0.2662, 0.93825, 0.27635, 1.6321, 0.0567, 15.42879, 1.1431, 1.97365, 0.34345, 6.2519, 1.3834, 2.20671, 0.47849, 2.62888, 0.15436, 0.5106, 2.38974, 0.0404, 0.0027, 0.14222, 0.19017, 1.4759, 0.3065, 0.2492, 0.59985, 0.77825, 0.35647, 0.01105, 0.76805, 0.2135, 0.12022, 3.052352, 1.173, 0.17915, 0.25887, 0.0657, 1.41776, 0.42097, 0.96061, 1.1677, 2.98, 13.8078, 1.8123, 0.49707, 0.17526, 0.0413, 692.9391, 0.2194, 10.9346, 0.047, 0.3399, 0.49848, 1.61, 0.088, 0.74912, 0.17155, 343.50473, 0.0835, 2.35376, 0.18355, 1.063725, 0.17355, 1.91186, 0.3306, 1.147, 0.0427, 0.01755, 1.339, 3.55575, 0.1613, 1.6531, 0.4734, 2.47341, 0.23837, 1712.59889, 248.7198, 7.44123, 7.33297000000001, 13.40104, 0.52814, 3.65665, 83.61437, 4.51459, 55.9025813, 4.9331995, 0.1776, 0.3897, 1.238, 3.7304, 2.3811, 0.5044, 0.48555, 1.4255, 0.2341, 0.013, 0.00745, 0.7557, 0.42855, 0.2316, 37.1319, 12.4008, 0.02054, 0.03605, 0.20052, 0.03415, 2.4457, 0.07315, 0.79735, 0.0086535, 0.98825, 1.67145, 0.07745, 0.10065, 0.73253, 0.0373, 0.53515, 0.25415, 1.23094, 9.7443, 0.47583, 1.7342, 2.27065, 0.92383, 0.33465, 0.46885, 0.4074, 0.30165, 0.04235, 0.59055, 0.95565, 0.51398, 0.10293, 1.35604, 0.14905, 0.41064, 0.0464, 0.08782, 0.03855, 5.25072, 0.8775, 0.09195, 2.04675, 0.12511, 1.46234, 0.11519, 0.47522, 1.90819, 7.656, 0.193, 0.0231, 0.13705, 0.09783, 0.56464, 0.04755, 0.74903, 0.0682, 1.15189, 1.84935, 2.51425, 11.3833, 0.0215071, 0.18655, 9.5125, 1.106, 0.0362, 0.01495, 0.00115, 17800.431, 270.5015, 7.38887, 3.16085, 2.28309, 10.19603, 0.10346, 0.0597, 1.13275, 2.53715, 3.79133, 2.53997, 0.61425, 0.0919, 0.29955, 2.89737, 0.1142, 0.67441, 0.1786, 0.144, 0.12355, 0.01905, 0.114, 0.30554, 1.13715, 0.1018, 0.1343, 0.13165, 0.42831, 0.53425, 0.20695, 0.1024, 0.08615, 0.19035, 0.01565, 1.01125, 2.2502, 0.35298, 0.02605, 0.03025, 4.00343, 0.08105, 0.06901, 0.09755, 0.03955, 2.21615, 0.06268, 0.4177, 0.24015, 0.2268, 0.097, 0.35783, 0.07755, 0.83515, 0.10985, 1.20455, 0.0791, 0.48767, 0.0975, 1.26738, 0.048, 1.9195, 0.19829, 0.30217, 0.0955, 0.135, 0.7724, 0.035, 0.04605, 0.22285, 0.46991, 0.3628, 0.09357, 0.0765, 0.0392, 0.2926, 0.0356, 0.88435, 0.3772, 1.38059, 1.01962, 0.73295, 6.24795, 1.11954, 0.71799, 0.14385, 0.0934, 0.25813, 0.02715, 0.1709, 5.15695, 0.24009, 0.13951, 5.41115, 0.9489, 2.7937, 0.17535, 0.94546, 0.3594, 0.76433, 0.86836, 0.17501, 1.25884, 0.07495, 0.0514, 0.0695, 0.04355, 0.1261, 0.27386, 0.14657, 0.01857, 0.93667, 0.26625, 9.33616, 274.14295, 0.1183, 0.0113, 3.2917, 0.07835, 2.0908, 0.03665, 1.39583, 0.93522, 0.14346, 0.13355, 0.60815, 1.29075, 0.14961, 2.27814, 0.152, 0.53596, 0.0721, 0.0883, 2.8681, 4.67541, 0.13955, 0.64082, 0.0316, 6.84976, 0.46815, 3.0971, 0.01365, 0.0454, 24.89931, 1.11165, 25.128, 0.3504, 0.35651, 0.10165, 0.1823, 0.02468, 0.0491, 0.12345, 0.1259, 0.06863, 8.2508, 0.39629, 0.15348, 4.97059, 27.55037, 111.41474, 44.60551, 0.35378, 0.33836, 0.13087, 0.12215, 0.35055, 0.17625, 0.2733, 0.0726, 0.78067, 0.51355, 0.2117, 0.05315, 0.0683, 0.0278, 0.71716, 0.66753, 0.17513, 0.9199, 0.12369, 0.49165, 0.14585, 0.10679, 0.34402, 2.31115, 0.82589, 0.19295, 0.2185, 0.1118, 0.05955, 0.4174, 1.4384, 0.61147, 0.20909, 0.58762, 0.0094, 25.52581, 1.228, 0.3333, 6.8588, 2.85609, 0.5992, 1.47505, 0.75035, 1.82653, 3.6177, 2.7838, 0.25249, 3.6104, 0.3726, 0.13625, 2.43308, 0.78888, 4.52881, 55.21655, 0.85425, 1.45091, 1.04426, 2.8289, 0.41359, 0.1164, 0.126, 3.62065, 0.31453, 0.58145, 0.0778, 0.3324, 2.66565, 1.07658, 3.19595, 0.9365, 0.07222, 5.2229, 2.15577, 1.806942, 1.2279, 2.46575, 1.0607, 0.3368, 0.11475, 0.1055, 0.81425, 4.91999, 0.69211, 0.12995, 1061.86472, 0.056, 0.41195, 3.04113, 2.08925, 0.0615, 8.99745, 0.7826, 1.95413, 0.7925, 0.52635, 0.3319, 0.15315, 0.0891, 0.0515, 5.50404, 3.341, 1.23369, 0.22755, 3.89712, 15.46413, 14.41611, 13.39436, 4.83985000000001, 3.35171000000001, 43.44698, 2.71925, 3.22216, 0.7515, 10.60151, 8.65283, 8.26057, 5.59955, 0.54092, 0.65127, 1.41945, 2.7746, 1.9248, 0.38165, 0.19165, 0.2826, 0.96985, 2.49635, 0.2656, 1.28785, 1.01905, 0.09515, 0.0751, 0.0456, 0.1662, 0.051, 0.9735, 0.1585, 0.1517, 0.5945, 0.04655, 0.1471, 1.8128, 1.032, 0.58284, 0.67463, 0.99631, 0.12497, 26.14668, 0.6619, 0.17475, 0.76813, 0.19644, 0.19482, 0.37855, 1.7118, 0.05415, 0.21605, 1.38995, 2.02841, 0.1002, 0.2211, 0.7429, 0.332, 0.09974, 0.00915, 2.79592, 2.33685, 0.1373, 2.60915, 0.0846, 2.51445, 1.76079, 4.78244, 1.59545, 0.84645, 0.076, 0.1185, 0.0382, 0.11235, 0.0873, 1.35941, 2.04165, 0.06825, 0.5369, 77.95325, 0.69375, 0.063, 0.395, 0.38605, 19396.9913, 1.0284, 7.48434, 1.29855, 0.23215, 2.46125, 1.89455, 4.2958, 0.12955, 1.53, 3.30954, 7.0325, 0.60766, 0.275, 0.18085, 0.041, 1.7, 0.76975, 0.261, 0.295, 0.038, 1.28935, 0.50104, 0.82275, 0.13935, 0.13835, 0.99445, 0.2482, 0.32638, 0.12695, 0.45905, 0.06475, 0.0476, 0.25855, 0.0365, 0.63555, 1.5056, 0.06725, 0.0429, 0.1801, 0.04255, 0.0785, 0.74882, 0.75995, 0.08555, 1.1555, 0.09955, 0.094, 0.19605, 0.0972, 0.23665, 0.88135, 0.25305, 0.12905, 0.10433, 0.31842, 0.061, 0.1145, 0.12296, 1.10454, 0.03145, 10.24894, 10.2214, 2.12992, 0.7106, 0.368, 0.11314, 0.2548, 1.2599, 0.11176, 0.2531, 76.3582, 0.132, 0.05945, 0.42532, 0.5815, 0.0635, 0.76645, 0.0945, 0.57855, 0.00615, 0.0054, 0.18705, 0.0774, 1.18065, 3.74395, 2.99662, 0.88386, 1.10151, 1.06307, 1.53686, 0.52475, 0.06215, 0.0617, 0.14159, 0.52417, 0.11151, 0.35721, 0.1541, 1.0329, 0.95895, 0.44479, 0.08975, 1.28107, 0.35033, 0.03575, 0.46486, 0.80175, 0.23805, 0.11627, 3.15192, 0.08255, 0.02875, 0.19893, 0.10825, 0.07735, 1.01556, 0.33997, 0.4483, 0.06595, 0.98443, 0.38466, 1.47215, 0.59412, 0.47191, 6.7933, 0.10552, 0.0229, 0.2195, 0.07545, 0.58427, 0.37132, 0.03105, 0.20096, 0.4525, 1.30737, 1.09805, 0.0249, 0.25125, 1.27061, 0.1935, 0.25672, 0.2252, 1.13099, 2.2372, 2.2356, 0.2339, 1.38093, 1.79395, 2.09294, 0.49131, 0.96613, 2.61393, 13.20396, 0.08693, 0.63738, 0.0405, 0.15029, 0.07665, 0.171, 0.5926, 0.255, 2.02758, 0.27935, 0.342, 4.97756, 0.9159, 18.49765, 2.87614, 8.03054, 2.41055, 0.80735, 0.0612, 0.46754, 0.22277, 0.22675, 0.07073, 0.1486, 0.30903, 0.0924, 0.5134, 0.22834, 0.25248, 0.29206, 0.03891, 2.72468, 2.47786, 1.00442, 1.33223, 0.15074, 0.56127, 0.30062, 0.08568, 0.09952, 0.75245, 1.76773, 1.01954, 0.2623, 1.19175, 0.064, 0.38803, 0.07581, 0.46685, 0.161, 1.21984, 0.16805, 60.89043, 1.4159, 0.1081, 0.79975, 4.73422, 0.2167, 0.67766, 0.42258, 1.81486, 0.14755, 2.478, 4.13543, 0.2244, 0.109, 0.036, 0.3571, 0.51125, 2.28391, 0.26925, 2.01972, 136.07835, 1.22605, 2.50455, 1.5244, 0.31883, 2.3175, 0.33112, 0.1175, 7.62848, 0.3976, 0.59262, 0.17373, 1.41885, 0.12395, 4.06222, 0.43398, 1.17255, 1.09322, 0.08875, 2.58583, 1.15207, 0.22383, 0.25661, 0.4204, 6.50152, 0.0122, 3.32343, 0.3384, 0.1293, 4992.07545, 0.9583, 0.0443, 0.3688, 1834.22632, 0.21647, 1487.662, 6.2196, 0.175, 0.5467, 1.50795, 0.0908, 0.1365, 0.0495, 52.15948, 2.3647, 0.14925, 0.9295, 0.31135, 19.09073, 0.65043, 8.32634, 11.33969, 83.6944900000018, 5.87168, 4.48279, 0.9725, 5.0505, 2.09622, 10.63639, 47.2138, 2.91424, 3.0868, 0.4372, 0.60245, 1.15093, 1.7962, 1.8096, 0.3541, 0.1758, 0.1985, 0.0493, 0.4825, 1.25895, 0.19885, 1.0537, 0.13532, 0.0351, 0.06697, 0.00605, 0.02955, 0.7439, 0.03225, 0.71525, 0.15535, 0.0956, 0.10381, 0.595, 0.98035, 0.01725, 0.07005, 1.52215, 0.1077, 0.05765, 0.9302, 0.0777, 3.62313, 0.6368, 0.14176, 1.09451, 0.24085, 0.60053, 0.05881, 1.22049, 0.52565, 0.0293, 2.27365, 2.28931, 0.16305, 0.5462, 0.90646, 0.03278, 0.0952, 0.0011, 0.96645, 0.2126, 2.32513, 1.99545, 0.24975, 1.20511, 0.15796, 11.08542, 1.77927, 5.6395, 0.111, 0.60631, 0.07867, 0.08315, 0.878, 0.0834, 0.50015, 1139.44675, 1.0388, 0.2065, 0.0445, 2.002, 6.0225, 0.41555, 0.02115, 0.03183, 0.04015, 5610.2989, 2.1]"
        ],
        [
         "11",
         "crack_(piedras)",
         "float64",
         "1511",
         "0",
         "0.0%",
         "2217",
         "65.2%",
         "[9051.13333333333, 17697.2222222222, 87.0, 780.666666666667, 2096.66666666667, 155.0, 371.666666666667, 6719.0, 882.8, 1312.13333333333, 233.666666666667, 3317.66666666667, 0.0, 1.0, 1434.2, 286.266666666667, 174.0, 59.0, 22.0, 13.0, 3.0, 248.0, 2153.33333333333, 2.0, 27.0, 45.0, 248.333333333333, 342.333333333333, 184.0, 10.0, 11.0, 23.0, 12.0, 104.0, 1225.33333333333, 146.0, 21.0, 260.333333333333, 287.0, 277.0, 333.666666666667, 2170.4, 70.0, 152.0, 37.0, 353.0, 259.0, 51.0, 352.0, 42.0, 676.333333333333, 2829.33333333333, 92.3333333333333, 939.0, 98.0, 534.0, 416.333333333333, 1469.2, 788.666666666667, 30.6666666666667, 26.3333333333333, 599.0, 1224.33333333333, 7.33333333333333, 48.0, 462.0, 442.0, 43.0, 5.0, 1088.0, 14.0, 65.0, 75.0, 96.3333333333333, 231.0, 214.0, 9.0, 779.0, 824.0, 971.0, 264.866666666667, 1769.66666666667, 828.666666666667, 96.0, 74.0, 97.0, 3196.24444444444, 365.0, 805.0, 345.0, 2514.44444444444, 328.0, 2839.66666666667, 612.0, 12569.0, 1650.66666666667, 11.6666666666667, 1508.0, 28.0, 516.222222222222, 158.0, 1117.0, 53.6666666666667, 8.0, 128.0, 49.0, 193.0, 86.0, 871.333333333333, 700.0, 24.0, 7.0, 2414.66666666667, 318.0, 40.3333333333333, 7119.13333333333, 30.0, 2.33333333333333, 721.0, 998.0, 6.0, 189.0, 17.0, 495.666666666667, 32.0, 330.0, 807.0, 156.0, 154.0, 232.0, 68.0, 1281.0, 655.666666666667, 136.0, 225.0, 25.0, 98.3333333333333, 58.0, 203.333333333333, 1545.33333333333, 117.666666666667, 3054.33333333333, 834.0, 25.6666666666667, 235.0, 4.0, 108.0, 75.3333333333333, 165.333333333333, 33.0, 55.0, 153.0, 406.0, 66.0, 22.3333333333333, 44.0, 376.0, 824.666666666667, 92.0, 228.0, 61.0, 148.666666666667, 1048.33333333333, 115.333333333333, 34.0, 1326.66666666667, 93.0, 295.0, 8259.0, 167.0, 293.0, 1520.66666666667, 424.0, 536.333333333333, 74.6666666666667, 181.0, 1571.66666666667, 100.0, 113.0, 19.0, 243.0, 210.0, 474.0, 339.0, 911.111111111111, 1028.33333333333, 832.8, 84.0, 418.0, 418.066666666667, 460.333333333333, 2942.66666666667, 509.666666666667, 1242.0, 698.666666666667, 1008.33333333333, 1424.66666666667, 142.0, 679.0, 696.666666666667, 35.0, 20.0, 350.0, 1969.33333333333, 543.0, 1423.66666666667, 60.0, 191.0, 135.0, 580.0, 1361.0, 80.0, 527.0, 2255.66667, 623.0, 3448.66666666667, 16325.0, 3243.44444444444, 3051.66666666667, 466.0, 242.0, 1851.0, 6563.22222222222, 11396.5555555556, 7314.66666666667, 306.0, 607.0, 36.3333333333333, 686.0, 3646.77777777778, 784.0, 428.0, 13158.6666666667, 244.0, 183.333333333333, 7011.33333333333, 656.0, 4348.0, 200.0, 348.888888888889, 109.555555555556, 1937.66666666667, 373.0, 444.333333333333, 36.0, 655.0, 80.6666666666667, 1126.0, 126.0, 617.0, 3373.0, 593.666666666667, 949.0, 220.0, 2021.0, 2646.0, 2102.73333333333, 580.666666666667, 64.0, 528.0, 1902.0, 1050.0, 496.666666666667, 591.0, 388.0, 409.0, 1521.0, 15.0, 335.333333333333, 2317.66666666667, 491.0, 18.0, 1184.0, 1770.0, 133.0, 76.0, 147.0, 6644.4, 10406.6666666667, 204.0, 913.333333333333, 5812.33333333333, 575.0, 4830.33333333333, 441.0, 2136.33333333333, 4341.66666666667, 132.333333333333, 1236.53333333333, 361.666666666667, 9.66666666666667, 105.333333333333, 1771.66666666667, 46.0, 82.0, 47.0, 627.0, 273.0, 777.666666666667, 26.0, 31.0, 1016.0, 57.0, 690.666666666667, 520.0, 170.0, 519.0, 642.0, 183.666666666667, 158.533333333333, 381.666666666667, 1274.0, 744.666666666667, 219.0, 201.666666666667, 53.3333333333333, 572.333333333333, 40.0, 446.2, 63.3333333333333, 5.33333333333333, 395.0, 103.0, 356.533333333333, 967.666666666667, 336.0, 809.0, 1744.66666666667, 1242.33333333333, 56.0, 1777.46666666667, 1500.33333333333, 706.333333333333, 2377.33333333333, 471.333333333333, 1659.0, 338.0, 906.333333333333, 1714.0, 187.0, 358.0, 50.0, 1642.0, 141.0, 175.0, 71.0, 161.0, 473.0, 1572.66666666667, 853.666666666667, 515.666666666667, 129.0, 368.333333333333, 3437.33333333333, 149.333333333333, 427.0, 38.0, 1245.33333333333, 179.0, 169.0, 121.0, 679.333333333333, 293.666666666667, 1229.0, 497.0, 1527.2, 130.0, 1547.66666666667, 225.666666666667, 140.0, 169.666666666667, 60.6666666666667, 69.0, 850.666666666667, 160.666666666667, 3323.33333333333, 728.333333333333, 119.0, 58.6666666666667, 290.0, 114.0, 51.6666666666667, 465.333333333333, 523.0, 24.6666666666667, 42.6666666666667, 175.333333333333, 77.6666666666667, 506.666666666667, 95.6666666666667, 1929.0, 5866.33333333333, 426.0, 199.0, 3613.13333333333, 425.333333333333, 650.2, 3167.66666666667, 1495.46666666667, 2121.06666666667, 296.0, 151.333333333333, 197.0, 1768.13333333333, 578.333333333333, 2219.0, 2423.0, 394.0, 348.666666666667, 345.4, 3829.66666666667, 637.333333333333, 16.0, 1226.0, 431.333333333333, 1128.0, 1216.0, 794.666666666667, 113.666666666667, 627.733333333333, 774.333333333333, 2767.0, 315.0, 1533.66666666667, 260.0, 654.333333333333, 800.0, 2576.33333333333, 2209.66666666667, 10423.0, 4673.0, 1879.0, 94.0, 5171.33333333333, 533.733333333333, 8347.0, 6804.66666666667, 4131.0, 401.0, 596.0, 1065.33333333333, 1074.0, 1161.0, 238.0, 125.0, 1083.0, 53.0, 3115.0, 3801.33333333333, 175.666666666667, 320.0, 521.666666666667, 869.333333333333, 104.333333333333, 938.0, 526.666666666667, 2655.66666666667, 150.0, 551.0, 247.0, 1940.0, 685.333333333333, 50.6, 837.666666666667, 2105.0, 337.0, 1533.0, 311.0, 405.333333333333, 2142.66666666667, 239.4, 229.0, 224.0, 425.0, 149.533333333333, 732.0, 839.0, 1505.66666666667, 218.333333333333, 132.0, 9260.33333333333, 8921.33333333333, 4231.0, 1273.06666666667, 2618.33333333333, 271.0, 482.0, 1322.0, 930.0, 1751.0, 481.0, 5988.33333333333, 1006.0, 793.666666666667, 685.666666666667, 133.666666666667, 120.0, 1157.33333333333, 1362.66666666667, 902.666666666667, 530.0, 81.6666666666667, 1919.33333333333, 520.666666666667, 510.0, 206.0, 281.0, 397.333333333333, 102.0, 294.666666666667, 566.666666666667, 706.666666666667, 67.0, 298.333333333333, 1534.66666666667, 672.0, 180.0, 419.333333333333, 697.333333333333, 298.666666666667, 79.3333333333333, 616.0, 548.333333333333, 1264.33333333333, 157.0, 110.666666666667, 1873.33333333333, 2466.2, 1900.0, 467.0, 469.0, 1004.0, 575.333333333333, 906.0, 276.0, 2009.33333333333, 200.333333333333, 1167.0, 514.333333333333, 1064.66666666667, 1457.33333333333, 137.0, 119.666666666667, 1308.0, 234.0, 379.666666666667, 215.0, 3430.66666666667, 589.0, 963.333333333333, 711.333333333333, 2032.13333333333, 41.0, 1569.73333333333, 173.0, 958.666666666667, 114.666666666667, 841.666666666667, 54.0, 29.0, 1334.66666666667, 372.0, 1814.0, 663.0, 240.0, 284.333333333333, 4703.66666666667, 629.333333333333, 10.6666666666667, 52.0, 39.0, 936.666666666667, 214.533333333333, 2034.66666666667, 465.0, 228.333333333333, 213.933333333333, 150.333333333333, 393.0, 878.666666666667, 90.0, 253.0, 166.0, 6.66666666666667, 286.333333333333, 123.0, 88.0, 672.133333333333, 239.0, 508.0, 6475.33333333333, 441.666666666667, 588.0, 3267.93333333333, 970.666666666667, 2230.66666666667, 754.0, 7660.66666666667, 271.333333333333, 2982.53333333333, 131.0, 321.666666666667, 95.0, 85.0, 160.0, 521.0, 1369.26666666667, 423.333333333333, 1914.0, 258.0, 776.666666666667, 186.0, 1737.66666666667, 493.666666666667, 4376.33333333333, 139.0, 68.3333333333333, 3397.66666666667, 40.6666666666667, 1731.66666666667, 982.333333333333, 1041.0, 73.0, 117.0, 190.0, 818.333333333333, 246.666666666667, 220.2, 919.666666666667, 378.0, 759.0, 502.333333333333, 1028.4, 895.333333333333, 1114.33333333333, 8448.6, 3021.66666666667, 1849.46666666667, 1629.0, 2389.0, 9915.0, 5388.0, 2611.0, 7150.66666666667, 1697.66666666667, 832.0, 1414.33333333333, 1926.0, 662.0, 435.0, 2769.0, 1799.0, 584.0, 1128.13333333333, 888.0, 112.0, 10381.0, 886.0, 264.0, 4125.33333333333, 634.666666666667, 106.0, 79.0, 804.0, 159.333333333333, 2069.0, 3900.0, 323.0, 96.4, 201.0, 357.0, 195.0, 3623.8, 349.0, 525.0, 259.133333333333, 236.0, 885.0, 157.533333333333, 540.0, 1302.0, 2173.0, 4703.0, 3429.0, 2927.33333333333, 500.0, 527.666666666667, 1060.0, 364.0, 4294.66666666667, 1991.66666666667, 995.0, 247.666666666667, 29.6666666666667, 897.0, 164.0, 982.0, 203.0, 479.0, 285.0, 572.0, 852.0, 472.333333333333, 89.0, 620.4, 417.0, 115.0, 1056.33333333333, 78.0, 1132.66666666667, 610.333333333333, 194.0, 2036.0, 250.333333333333, 904.0, 355.666666666667, 44.3333333333333, 178.333333333333, 105.666666666667, 354.666666666667, 429.0, 1509.66666666667, 3173.33333333333, 1250.0, 497.333333333333, 1415.33333333333, 1048.86666666667, 223.0, 11.3333333333333, 170.333333333333, 548.2, 3603.16666666667, 996.666666666667, 1276.66666666667, 392.666666666667, 834.8, 1427.66666666667, 1447.33333333333, 560.0, 62.0, 26.6666666666667, 831.0, 727.333333333333, 1094.0, 1296.26666666667, 1188.0, 948.0, 579.333333333333, 1093.0, 2600.33333333333, 1173.66666666667, 371.0, 1154.0, 135.666666666667, 1864.93333333333, 332.0, 1309.0, 940.0, 1357.8, 1479.66666666667, 535.0, 277.333333333333, 1909.6, 110.0, 3961.53333333333, 2186.33333333333, 208.0, 263.0, 3272.53333333333, 84.4, 265.0, 162.666666666667, 624.0, 7.2, 1364.33333333333, 60.3333333333333, 2676.0, 752.133333333333, 456.733333333333, 490.0, 500.666666666667, 121.733333333333, 44.6666666666667, 459.666666666667, 182.0, 284.266666666667, 1271.33333333333, 3319.0, 406.666666666667, 586.0, 1995.0, 6126.0, 275.0, 514.0, 3525.0, 432.0, 342.0, 3400.13333333333, 2577.66666666667, 652.0, 1723.46666666667, 327.0, 202.0, 460.0, 3681.33333333333, 383.0, 1648.8, 1958.0, 1454.66666666667, 207.666666666667, 368.0, 870.666666666667, 27.3333333333333, 770.0, 266.0, 1399.66666666667, 617.333333333333, 322.0, 672.333333333333, 4063.46666666667, 3426.0, 1122.0, 207.333333333333, 1850.0, 1237.33333333333, 568.0, 6267.33333333333, 148.0, 1693.33333333333, 2347.0, 531.0, 2407.66666666667, 1888.0, 437.0, 134.0, 157.333333333333, 5499.0, 631.466666666667, 3034.33333333333, 3097.33333333333, 1502.66666666667, 3226.33333333333, 5360.0, 638.0, 351.533333333333, 501.0, 658.0, 1449.0, 364.333333333333, 2499.0, 605.133333333333, 308.0, 386.0, 171.0, 421.0, 307.733333333333, 366.333333333333, 24.3333333333333, 2493.0, 615.333333333333, 5281.33333333333, 20339.6666666667, 4791.33333333333, 237.333333333333, 14639.0433333333, 10562.0, 265.333333333333, 4178.0, 2656.0, 604.0, 250.0, 329.0, 636.0, 792.333333333333, 447.0, 23903.0, 150.666666666667, 462.333333333333, 12805.6666666667, 14673.6666666667, 2691.66666666667, 2468.66666666667, 331.5, 577.0, 1881.66666666667, 478.333333333333, 3332.66666666667, 1580.0, 2034.1, 413.666666666667, 269.333333333333, 323.333333333333, 687.0, 282.666666666667, 1068.33333333333, 180.066666666667, 233.0, 197.666666666667, 63.0, 184.666666666667, 1061.3, 2268.0, 2822.66666666667, 2033.0, 91.6666666666667, 187.333333333333, 426.933333333333, 280.0, 635.0, 506.0, 785.0, 1015.0, 243.333333333333, 297.733333333333, 1405.33333333333, 198.0, 1203.33333333333, 2624.0, 331.0, 868.0, 913.666666666667, 2287.0, 966.733333333333, 770.333333333333, 2944.73333333333, 8711.13333333333, 2948.0, 180.6, 15467.0, 159.733333333333, 237.666666666667, 4560.33333333333, 1531.2, 81.0, 732.333333333333, 893.533333333333, 554.333333333333, 297.0, 1044.66666666667, 199.666666666667, 1754.0, 907.666666666667, 137.333333333333, 399.0, 528.533333333333, 909.0, 310.0, 10319.4, 132.866666666667, 2240.2, 1742.33333333333, 88.6666666666667, 1893.66666666667, 1097.66666666667, 181.6, 2027.66666666667, 204.333333333333, 194.333333333333, 802.0, 4179.66666666667, 1490.33333333333, 2421.0, 1051.0, 257.0, 77.3333333333333, 266.666666666667, 111.0, 6962.0, 118.0, 3158.33333333333, 758.0, 105.0, 403.0, 298.0, 151.933333333333, 249.333333333333, 34.6666666666667, 1759.2, 368.066666666667, 433.533333333333, 196.466666666667, 688.0, 152.7, 8.06666666666667, 209.0, 67.6666666666667, 650.0, 819.333333333333, 10181.0, 107.333333333333, 999.0, 5880.33333333333, 440.666666666667, 2164.0, 669.4, 1766.46666666667, 3395.33333333333, 319.0, 213.666666666667, 505.333333333333, 1389.0, 840.0, 3169.06666666667, 1947.33333333333, 1034.66666666667, 408.0, 507.333333333333, 209.8, 11956.4, 915.666666666667, 144.0, 1495.66666666667, 4545.66666666667, 242.333333333333, 3988.33333333333, 1295.0, 2367.66666666667, 214.333333333333, 363.666666666667, 119.333333333333, 819.666666666667, 3350.33333333333, 1078.66666666667, 1100.0, 322.333333333333, 1938.33333333333, 1337.0, 304.666666666667, 2053.33333333333, 307.0, 1102.66666666667, 1698.0, 3221.33333333333, 2454.0, 1286.33333333333, 2459.33333333333, 16595.6666666667, 9572.33333333334, 4088.66666666667, 2027.33333333333, 74.3333333333333, 5449.0, 116.0, 8968.33333333334, 24394.3333333333, 4126.33333333333, 715.0, 3595.66666666667, 4097.0, 862.0, 867.0, 4738.33333333333, 593.333333333333, 784.666666666667, 107.0, 2015.33333333333, 487.0, 694.0, 2525.0, 10810.6666666667, 380.666666666667, 505.666666666667, 522.0, 1312.0, 386.666666666667, 1121.0, 3213.66666666667, 706.0, 693.333333333333, 392.0, 99.0, 4036.0, 1321.93333333333, 122.0, 302.666666666667, 171.733333333333, 859.333333333333, 185.333333333333, 1385.0, 2573.66666666667, 553.333333333333, 10294.0, 8529.46666666667, 251.0, 1842.66666666667, 6878.0, 258.666666666667, 461.0, 2796.0, 1711.93333333333, 4532.53333333333, 889.0, 2469.0, 1890.33333333333, 1462.0, 183.0, 1020.33333333333, 73.6666666666667, 212.666666666667, 347.666666666667, 556.0, 348.0, 65.6666666666667, 163.333333333333, 411.666666666667, 2418.86666666667, 419.666666666667, 227.333333333333, 2001.66666666667, 1231.33333333333, 985.666666666667, 221.333333333333, 678.0, 583.0, 557.333333333333, 151.0, 2218.33333333333, 72.0, 480.0, 411.8, 246.0, 574.333333333333, 1967.73333333333, 2054.66666666667, 3609.0, 1603.33333333333, 5549.66666666667, 1950.86666666667, 109.0, 1042.0, 372.666666666667, 2181.66666666667, 590.666666666667, 1313.06666666667, 149.0, 988.4, 665.0, 405.6, 291.066666666667, 1250.66666666667, 197.333333333333, 146.466666666667, 419.0, 627.933333333333, 458.333333333333, 645.666666666667, 603.0, 205.0, 2262.0, 5021.33333333333, 4898.53333333333, 213.0, 1406.8, 104.866666666667, 768.666666666667, 2139.8, 344.0, 380.333333333333, 438.666666666667, 1661.06666666667, 570.733333333333, 838.333333333333, 1147.33333333333, 356.0, 60134.1333333333, 492.0, 7430.33333333333, 168.0, 970.0, 5726.66666666667, 752.666666666667, 715.666666666667, 8262.66666666667, 3405.33333333333, 2100.33333333333, 55.6666666666667, 124.0, 566.0, 240.666666666667, 426.2, 97.6666666666667, 381.6, 113.133333333333, 374.666666666667, 116.666666666667, 18.3333333333333, 292.666666666667, 1670.66666666667, 1331.0, 1116.0, 1131.66666666667, 7764.0, 2333.4, 3280.13333333333, 381.0, 1435.0, 866.0, 3966.66666666667, 5418.26666666667, 554.666666666667, 2119.33333333333, 2349.46666666667, 1677.0, 3462.33333333333, 1228.0, 547.0, 501.733333333333, 362.2, 4601.66666666667, 117.333333333333, 1584.0, 2010.33333333333, 62.6666666666667, 2331.33333333333, 2564.33333333333, 309.0, 1229.2, 38.4, 1766.26666666667, 802.333333333333, 306.666666666667, 1180.0, 1566.66666666667, 3443.66666666667, 595.666666666667, 1309.33333333333, 2536.0, 205.666666666667, 3548.0, 292.0, 3615.33333333333, 20060.1333333333, 13141.0, 7879.0, 1429.33333333333, 3995.0, 10392.2666666667, 9933.0, 33546.3333333333, 953.066666666667, 457.0, 1549.0, 5645.0, 4737.0, 10977.3333333333, 733.0, 145.0, 1703.0, 2936.0, 55.3333333333333, 382.066666666667, 632.0, 731.0, 1812.0, 1504.0, 212.0, 7449.0, 176.0, 290.666666666667, 875.666666666667, 1496.0, 1543.0, 5092.66666666667, 83.3333333333333, 3992.33333333333, 5980.0, 1087.0, 238.333333333333, 645.333333333333, 838.0, 968.0, 330.333333333333, 1588.66666666667, 355.0, 2408.0, 7577.66666666667, 476.0, 393.333333333333, 6678.53333333334, 7179.66666666667, 185.666666666667, 1921.4, 4705.0, 3114.66666666667, 445.0, 2385.33333333333, 1367.0, 3643.33333333333, 11709.6666666667, 12.3333333333333, 2.66666666666667, 1171.66666666667, 47.6666666666667, 778.333333333333, 270.666666666667, 96.6666666666667, 1619.33333333333, 499.0, 412.0, 47.3333333333333, 92.6666666666667, 199.333333333333, 4.33333333333333, 101.0, 52.3333333333333, 2424.33333333333, 127.0, 240.333333333333, 305.666666666667, 823.333333333333, 201.333333333333, 1125.06666666667, 1658.33333333333, 6.33333333333333, 300.666666666667, 50.3333333333333, 125.666666666667, 983.0, 205.333333333333, 1637.2, 16.6666666666667, 1592.75666666667, 569.333333333333, 379.0, 1317.33333333333, 19.3333333333333, 1865.2, 1197.0, 16.3333333333333, 1877.0, 62.3333333333333, 25.3333333333333, 860.666666666667, 385.0, 7278.66666666667, 969.666666666667, 991.4, 1085.0, 2813.0, 5912.46666666667, 1117.33333333333, 271.666666666667, 126.666666666667, 1354.0, 1098.66666666667, 241.333333333333, 1297.8, 407.333333333333, 540.333333333333, 1510.46666666667, 820.333333333333, 367.333333333333, 625.0, 112.333333333333, 123.666666666667, 2882.8, 27.6, 93.3333333333333, 8.66666666666667, 14.6666666666667, 1335.0, 314.066666666667, 561.416666666667, 772.6, 251.533333333333, 1970.0, 1004.66666666667, 359.0, 9172.06666666334, 140.666666666667, 745.666666666667, 295.333333333333, 43.3333333333333, 85.3333333333334, 2835.79999966667, 501.666666666667, 32.6666666666667, 244.333333333333, 304.0, 2334.66666666667, 1833.66666666667, 742.666666666667, 1228.66666666667, 4878.46666666667, 1196.43333333333, 3833.63333333333, 1704.8, 1412.83333333333, 1.33333333333333, 210.8, 120.666666666667, 28.6666666666667, 10.3333333333333, 4073.46666666667, 8466.06666666667, 1363.8, 165.0, 1282.0, 87.6666666666667, 279.666666666667, 76.3333333333333, 7992.93333333333, 6293.13333333333, 5.66666666666667, 476.666666666667, 217.0, 961.666666666667, 6077.66666666667, 806.0, 4065.33333333333, 648.666666666667, 3085.0, 38.3333333333333, 1069.33333333333, 4874.0, 147.333333333333, 13.3333333333333, 582.866666666667, 421.333333333333, 1630.0, 894.333333333333, 1344.86666666667, 5375.33333333333, 7013.0, 457.333333333333, 513.8, 610.666666666667, 893.0, 3125.66666667, 254.333333333333, 333.933333333333, 267.0, 33.2333333333333, 7903.46666666667, 12.6666666666667, 6366.46666666667, 233.333333333333, 2341.53333333333, 1117.63333333333, 2790.33333333333, 1158.86666666667, 456.0, 388.333333333333, 103.333333333333, 4315.03333333333, 49.3333333333333, 305.333333333333, 513.333333333333, 789.333333333333, 3745.8, 2126.0, 182.666666666667, 52.66666667, 2334.73333333333, 1034.33333333333, 2989.0, 11258.1266666667, 346.333333333333, 4112.66666666667, 42544.2666666667, 10171.0, 6120.2, 2798.0, 182.333333333333, 9288.0, 14104.0, 42509.0666666667, 4053.66666666667, 926.933333333333, 939.333333333333, 1450.66666666667, 4263.0, 1251.66666666667, 606.0, 1926.26666666667, 2713.0, 2841.66666666667, 704.666666666667, 343.666666666667, 311.666666666667, 719.666666666667, 222.666666666667, 81.6933333333333, 71.6666666666667, 169.333333333333, 1060.66666666667, 5487.66666666667, 301.0, 2270.0, 67.3333333333333, 3.66666666666667, 1347.33333333333, 4883.66666666667, 79.6666666666667, 259.666666666667, 773.186666666667, 8.33333333333333, 80.4, 68.6666666666667, 2333.0, 884.8, 287.333333333333, 283.0, 72.8666666666667, 1396.0, 136.666666666667, 1023.66666666667, 4183.0, 9.33333333333333, 569.333333333334, 206.666666666667]"
        ],
        [
         "9",
         "cocaína_(kg)",
         "float64",
         "1287",
         "0",
         "0.0%",
         "2316",
         "68.2%",
         "[0.1469, 0.23475, 0.0015, 0.1175, 0.03345, 0.8778, 565.3631, 0.0325, 0.003, 0.2125, 0.00025, 0.0, 0.06897, 0.05, 0.0065, 0.0005, 0.00075, 0.03075, 0.03295, 0.00975, 0.001, 0.01, 0.0055, 0.00175, 0.00125, 60.0485, 0.0045, 0.03325, 58.00225, 0.00575, 0.091, 0.01325, 0.00275, 0.00365, 0.0035, 0.05736, 0.20375, 0.00875, 4.04988, 0.02237, 0.01025, 0.0025, 0.01905, 0.03375, 0.00525, 0.00425, 0.01525, 0.0205, 197.2005, 0.01415, 0.036, 0.0675, 0.1145, 0.0075, 0.019, 0.01655, 0.07775, 0.05703, 0.02475, 0.01925, 0.4745, 0.0085, 0.99555, 0.2955, 0.06425, 0.0175, 0.069, 0.008, 0.005, 0.02, 0.01375, 0.02525, 214.0879, 0.002, 0.1209, 200.003, 1380.0315, 0.046, 0.06205, 200.00025, 0.0145, 0.00225, 0.02825, 407.04175, 0.2463, 0.0465, 0.00625, 0.01575, 0.39565, 132.0932, 10.0648, 0.02975, 0.00675, 0.051, 0.009, 660.65625, 2.15525, 0.1067, 1.05, 0.098, 0.2297, 0.1045, 0.0192, 0.0129, 0.00375, 0.00325, 0.01225, 0.016, 0.0374, 0.00635, 0.00195, 0.01275, 0.01805, 0.00295, 0.105, 0.694, 0.0095, 853.91235, 0.0695, 0.5865, 2.37092, 2.298, 0.00906, 0.05078, 0.023, 0.04986, 0.37515, 0.151, 0.038, 1.04525, 0.1095, 0.006, 0.0125, 1641.26375, 0.2111, 0.0135, 752.03625, 30.0965, 0.3267, 0.0814, 47.0, 0.2006, 0.04225, 700.0025, 152.05815, 240.0, 4134.0703, 5859.03425, 3505.923, 39.00725, 3081.0055, 0.0764, 270.00875, 337.2515, 0.01175, 204.06975, 0.067, 302.28425, 0.22825, 73.4564, 0.3939, 0.259, 0.00725, 0.31914, 0.07035, 0.44789, 4.74385, 1.8885, 0.00825, 0.04875, 0.0495, 0.0555, 0.075, 0.03355, 0.032, 1.00365, 0.021, 0.03625, 0.4375, 0.03175, 0.02725, 0.004, 128.52275, 0.01425, 0.21425, 0.02625, 0.3313, 0.015, 0.01125, 0.00475, 44.07275, 0.09255, 0.025, 0.1115, 0.02225, 0.0115, 0.0117, 0.02275, 1.076, 0.16468, 0.0215, 0.0661, 0.00235, 3.106, 0.3035, 0.0225, 0.05825, 0.7025, 0.32975, 0.9344, 0.0785, 10.04434, 0.0349, 0.00925, 0.14875, 1.07445, 0.196, 0.0132, 0.0643, 1.20665, 0.00775, 0.02045, 20.0865, 0.0463, 0.0654, 0.0531, 0.02035, 0.05925, 0.05932, 0.01625, 50.024, 5.00225, 0.037, 0.04085, 0.04335, 0.06365, 0.044, 0.01551, 0.0008, 1.04957, 0.01075, 0.03634, 0.026, 0.0683, 0.2105, 0.01745, 0.011, 0.01725, 0.07375, 0.0436, 0.00454, 134.10968, 1.1442, 0.1064, 1095.01075, 0.35165, 1.02275, 0.06075, 0.09405, 1.0055, 0.0516, 0.00905, 1065.06175, 0.22808, 422.03925, 0.0285, 0.4452, 0.02125, 0.177, 0.0635, 0.7425, 0.0088, 0.24405, 0.0118, 0.01395, 1087.666, 0.0037, 70.007, 0.0745, 0.2815, 0.02165, 0.15178, 0.0378, 0.01595, 0.03, 0.02305, 3979.41555, 0.0105, 0.02075, 0.13897, 0.07507, 0.03122, 0.04079, 0.19402, 0.0007, 0.06955, 0.0242, 0.00935, 1.13115, 0.01775, 0.0395, 1.30375, 62.1062, 0.46575, 0.097, 1.04025, 0.022, 1.31325, 0.0329, 0.02365, 202.0, 0.0936, 1529.0075, 21.0045, 194.0005, 462.02745, 60.0, 34.00425, 471.08375, 2377.02719, 2.02349999999999, 145.04425, 51.01025, 3.08575, 0.19605, 22.001, 27.5222, 140.33599, 0.04325, 0.1786, 0.4161, 46.63955, 0.23418, 200.2858, 0.04375, 0.1716, 0.04913, 0.37975, 0.56381, 0.32175, 0.0207, 0.1885, 0.02925, 0.0265, 0.05325, 0.053, 0.0505, 0.1385, 0.00418, 0.01875, 4.0225, 0.0875, 0.0138, 0.03025, 3.25875, 0.09825, 0.02396, 0.19725, 0.13299, 0.1125, 3008.1701, 0.14508, 0.0335, 0.0186, 0.1035, 0.039, 0.02345, 0.16875, 32.0005, 11091.307, 2929.0, 17.41675, 400.0535, 0.09775, 0.06125, 0.0263, 45.43795, 0.12945, 0.4484, 0.03685, 0.029, 0.00708, 0.017, 0.0152, 0.0148, 0.0255, 0.54949, 5.26004, 0.03215, 0.0475, 0.12358, 0.46, 0.05875, 0.0545, 0.01885, 0.0235, 0.721, 3.96475, 0.0056, 0.0185, 0.04227, 0.02095, 0.0798, 0.0233, 0.9627, 0.013, 0.014, 0.11625, 1.0205, 0.04475, 0.07855, 0.02675, 0.01545, 0.04175, 0.0344, 0.07109, 0.0245, 0.3666, 0.34475, 0.03395, 0.02575, 0.1173, 0.06605, 1.03225, 0.88675, 0.23077, 0.0315, 0.09125, 0.15225, 0.02375, 0.04255, 1.1052, 8.10843, 0.0359, 0.21635, 0.0494, 1.0255, 391.507, 0.012, 0.00285, 1.1335, 0.00554, 0.2477, 0.00615, 1.045, 0.00385, 0.09525, 0.02705, 0.0013, 0.03945, 0.16255, 0.03275, 1.00075, 0.0109, 0.21551, 0.06144, 8.08144, 3501.67675, 2085.004, 4.09313, 0.107, 0.0825, 0.24576, 1.10525, 0.322, 0.13875, 0.11925, 725.07304, 0.0154, 10.0301, 0.06375, 4.96296, 0.124, 0.01965, 0.09075, 0.04925, 0.10015, 0.0518, 27.02875, 0.135, 12.001, 0.01401, 695.00075, 55.046, 95.00325, 41.01475, 0.16475, 0.10125, 19.0, 6.06637, 0.07417, 0.0313, 1000.0704, 0.0805, 0.7523, 4.3498, 0.13268, 1.476, 0.02741, 0.31585, 0.0116, 0.56619, 0.42132, 0.2535, 0.56775, 2070.01135, 0.11775, 0.29025, 0.05181, 0.0222, 0.9225, 0.21225, 0.089, 0.01763, 0.3185, 0.34315, 7.4015, 0.02671, 0.257, 0.25079, 0.08295, 0.064, 1.16753, 0.12573, 29.14275, 0.08468, 0.34322, 2.01732, 0.00626, 7.35975, 0.33137, 0.05529, 0.01122, 283.00275, 1.02911, 0.02485, 0.05962, 0.23875, 0.0715, 4.01475, 9689.288, 25657.0, 177.0, 0.09346, 0.0667, 0.05025, 35.47775, 0.02871, 0.01675, 0.2628, 0.5032, 0.16625, 0.02875, 0.0086, 104.00225, 811.00025, 0.00341, 4.5611, 0.00805, 0.00605, 0.32025, 0.05095, 0.10797, 0.14795, 0.0837, 2.17175, 0.2, 0.0585, 0.01895, 0.90274, 0.00765, 0.03809, 0.05225, 2.07625, 0.0272, 0.06275, 0.712, 563.01175, 1.15075, 0.04605, 101.0225, 0.0784, 22948.06, 12026.16, 1.031, 0.08755, 0.04725, 0.03735, 0.09325, 0.27935, 52.8086, 93.007, 0.35062, 475.00975, 0.06065, 0.1819, 0.17255, 0.00315, 1.1847, 0.21423, 0.03225, 0.0366, 3.004, 0.077, 1.0005, 1.00325, 1.17895, 0.06625, 60.20552, 0.03312, 0.13415, 0.0124, 0.0529, 0.0301, 0.024, 0.07119, 0.00837, 1.213, 0.35375, 0.10225, 8.79775, 0.0535, 0.5216, 3864.37075, 1.034, 1.0375, 0.202, 0.09875, 0.08525, 1.74505, 11.0395, 2.10575, 0.049, 0.14825, 3.092, 0.04765, 0.76925, 909.5419, 0.05775, 215.86255, 50.25745, 174.22525, 0.1098, 53.043, 0.176, 6.0035, 0.1481, 805.00175, 50.055, 42.03575, 0.01975, 305.57525, 0.01985, 0.11575, 0.2385, 2.4669, 0.2038, 0.01312, 1.76775, 0.2525, 0.066, 0.05537, 0.07975, 0.85825, 0.007, 0.28325, 0.06, 0.08315, 0.03207, 0.07925, 0.0625, 0.16425, 0.0435, 1.005, 0.04155, 0.34815, 0.04075, 0.137, 0.04195, 0.5485, 0.02994, 100.0, 2.2849, 0.06025, 0.082, 312.02625, 5.268, 1.08758, 0.06856, 3.86159, 2.69028, 25.48575, 0.24619, 1.01, 1.3526, 0.0828, 0.0155, 11.0035, 0.02527, 0.80878, 0.01039, 0.042, 6.6415, 0.071, 14.5291, 0.5681, 0.08275, 0.10525, 2.07612, 17.482658, 0.1155, 0.02646, 0.04825, 0.04355, 0.11475, 0.07421, 0.1897, 0.45575, 0.0051, 0.3743, 0.00471, 0.0422, 0.404, 1.00175, 0.08515, 0.04935, 38.961, 1.0753, 0.17581, 0.0637, 0.00491, 0.09225, 1.5415, 0.0646, 0.8135, 0.052, 0.40425, 0.01685, 0.03725, 0.00164, 0.03663, 0.21325, 0.0873, 0.03745, 5.58221, 0.12887, 0.00985, 0.0275, 0.6052, 0.0974, 2.1467, 2.0005, 0.22175, 0.13297, 0.24611, 1341.22097, 0.04715, 0.0861, 0.0096, 1.02725, 0.0024, 0.5856, 0.16175, 0.01184, 0.00205, 209.0149, 296.00125, 0.07319, 0.05605, 4.32265, 0.10535, 0.084, 0.01565, 0.51275, 0.0036, 0.02094, 0.00282, 0.01845, 3.00975, 0.02385, 0.00145, 2.00375, 87.00275, 0.00655, 0.01115, 0.04, 0.13117, 8.7139, 0.02025, 1.08405, 0.059, 274.63025, 1.00475, 0.03125, 2.3863, 0.24286, 0.1084, 0.09565, 0.02655, 0.216, 9.81725, 0.02665, 1.22643325, 0.3101, 0.11165, 0.1383, 0.10305, 0.16795, 0.20825, 0.16675, 0.05023, 0.18775, 0.0171, 1.5651, 0.0593, 1.4275, 0.21192, 0.018, 0.05125, 0.0972, 0.00955, 0.0985, 0.05475, 30.0215, 0.16125, 0.06725, 0.05665, 0.19698, 538.11525, 2.78458, 1.79987, 5.40845, 1.24695, 0.01862, 0.49906, 1.15564, 0.67439, 0.9558575, 0.086, 0.25055, 0.03975, 0.295, 0.0385, 0.0858, 223.89825, 0.27425, 0.00373, 1.11845, 0.48025, 0.0442, 5.61513, 0.01564, 0.0103, 0.25875, 0.99525, 0.063, 0.07475, 0.2508, 0.16157, 15.20925, 0.0761, 0.03959, 5.90375, 0.01596, 0.02041, 0.12175, 0.07182, 8024.235, 13499.0, 1.4904, 0.1631, 0.519, 64.9977, 0.21725, 55.87863, 0.0354, 0.0515, 0.03555, 0.11825, 0.01866, 0.1452, 0.06815, 0.0127, 60.3806, 68.386, 0.129, 0.00815, 0.02265, 0.02823, 0.0142, 0.02425, 0.47, 0.11765, 0.40025, 0.033, 420.0065, 207.715, 3.172, 0.01474, 0.00855, 0.7045, 0.04573, 0.02775, 0.2055, 0.0399, 0.12079, 0.01065, 0.0049, 0.03385, 11.74805, 0.0525, 0.77105, 0.02096, 0.0194, 0.01754, 0.0043, 0.1316, 4.16803, 0.00613, 0.29735, 0.0338, 0.05993, 0.1745, 0.2735, 0.02289, 0.09278, 0.0503, 0.21014, 1.07843, 0.08055, 0.74463, 0.51545, 0.0047, 1.48765, 0.3442, 0.05013, 0.02405, 0.01495, 901.92685, 0.0391, 0.09635, 0.01475, 16.53372, 0.23078, 0.04565, 0.00487, 0.66125, 0.02523, 0.02667, 0.02315, 0.11476, 0.0181, 0.00435, 3.64865, 0.00895, 2360.49925, 0.13625, 2150.02492, 484.93765, 0.0333, 0.096, 0.11225, 1.33528, 15.00075, 0.1088, 1.01925, 0.03814, 0.65614, 0.20715, 0.099, 0.08975, 0.01186, 0.9954, 293.12, 3.74505, 0.175, 0.08142, 1.001, 1443.78595, 10.23536, 0.0509, 7.00625, 0.14925, 0.04675, 0.1518, 1.1046, 0.3023, 0.0725, 2.0015, 0.07788, 0.09925, 130.094, 0.56095, 0.14584, 0.17075, 3.30865, 2.12715, 0.05375, 0.76489, 0.0724, 116.13475, 2.35843, 0.46995, 132.34137, 3.126, 0.01825, 1.596, 7.96326, 0.58975, 1.2765, 117.32152, 0.2827, 0.272, 0.3164, 0.40625, 0.2085, 0.1835, 0.06017, 0.03425, 0.09475, 3.01632, 0.05964, 0.7481, 0.0574, 0.21714, 0.2405, 0.12525, 0.58606, 0.01005, 0.047, 0.08796, 2.51852, 0.068, 0.02175, 0.2254, 0.0949, 1.01575, 4612.135, 7598.0, 22.7422, 192.2529, 0.00255, 26.9818, 0.2404, 0.02745, 0.0134, 0.0549, 6.991, 2.27235, 0.0419, 0.0012, 0.08855, 0.0033, 0.0406, 0.00105, 0.00485, 0.115, 0.00055, 0.04115, 0.02935, 0.01505, 0.0136, 0.0014, 0.00565, 0.01555, 0.02185, 0.0023, 0.0006, 0.00165, 0.03045, 0.05195, 0.0339, 0.0131, 2.28406, 0.0016, 0.0197, 0.1622, 0.0018, 0.00911, 0.0009, 0.00865, 0.06354, 0.00085, 0.87651, 0.00155, 0.11623, 0.0232, 0.0274, 0.0851, 0.02632, 0.0119, 0.01205, 0.0076, 0.0957, 913.5085, 0.0203, 0.00265, 0.0017, 0.1223, 23.79905, 0.02356, 0.01701, 0.02993, 0.09145, 0.22981, 0.13835, 0.0003, 0.00135, 0.04218, 0.0078, 0.03073, 0.99085, 0.0273, 0.028, 0.04055, 0.11682, 0.02868, 0.0306, 0.0052, 0.00445, 0.00515, 0.0193, 0.00735, 0.09156, 0.02453, 0.01915, 0.01045, 0.11538, 0.0214, 0.03595, 2.23742, 0.00785, 0.0166, 0.0071, 0.16295, 0.04781, 0.13795, 0.76382, 460.77649, 0.0146, 6.0115, 0.166, 0.0099, 10.05685, 0.42654, 0.0741, 0.21116, 0.0382, 0.2627, 0.061, 1.13305, 1.24978, 0.11994, 0.13015, 0.0062, 0.155, 0.42175, 27.3085, 1.7307, 1.09222, 0.0482, 0.0584, 0.01315, 0.01085, 0.0149, 0.16411, 0.07597, 0.04234, 0.02598, 0.2947, 0.00185, 982.1199, 6.02055, 0.0094, 0.0092, 0.0053, 0.0318, 3523.69955, 0.04885, 0.0428, 153.03005, 0.10131, 0.0462, 0.37919, 0.9521, 0.12415, 0.00535, 0.13044, 0.25285, 0.20605, 0.133, 0.25061, 0.0489, 0.02595, 0.02135, 0.0162, 3.44929, 0.0508, 0.04281, 0.45009, 0.0296, 6.144, 1.3122, 0.02115, 103.1383, 0.1741, 1.0149, 0.0042, 0.07931, 0.0081, 492.0005, 0.1049, 0.1015, 0.04235, 11.7823, 0.0073, 1295.7897, 66.20816, 46.22275, 0.0079, 0.0216, 0.10965, 206.00025, 0.09118, 241.21745, 1259.9641, 0.10985, 1.5167, 0.1159, 1263.99562, 3.5563, 0.57042, 0.37634, 2.95025, 0.7403, 0.03095, 3.07196, 357.99963, 0.24107, 0.01696, 0.0404, 0.0538, 0.22515, 0.2326, 0.0502, 0.0028, 0.02355, 0.07333, 0.0762, 0.0091, 0.1135, 0.01086, 0.0032, 0.0204, 0.04425, 0.01355, 0.416, 0.00115, 0.83283, 0.05022, 0.05239, 0.0093, 0.00715, 0.0868, 0.0066, 0.10575, 0.22982, 0.0511, 0.15953, 8.67865, 0.07498, 0.16963, 0.00964, 0.08327, 0.1705, 0.01265, 0.00245, 0.0228, 0.0019, 0.0143, 0.02895, 0.0034, 0.0269, 8.00075, 0.0041, 10498.0, 4882.0]"
        ],
        [
         "12",
         "marihuana_eventos",
         "float64",
         "632",
         "0",
         "0.0%",
         "3120",
         "91.8%",
         "[842.0, 249.0, 55.0, 336.0, 219.0, 27.0, 77.0, 244.0, 555.0, 126.0, 74.0, 140.0, 6.0, 17.0, 716.0, 21.0, 81.0, 19.0, 41.0, 26.0, 34.0, 4.0, 0.0, 263.0, 40.0, 64.0, 49.0, 101.0, 45.0, 30.0, 68.0, 245.0, 155.0, 29.0, 54.0, 51.0, 12.0, 59.0, 20.0, 349.0, 94.0, 10.0, 23.0, 9.0, 372.0, 178.0, 318.0, 156.0, 52.0, 225.0, 58.0, 42.0, 107.0, 48.0, 387.0, 15.0, 22.0, 132.0, 11.0, 527.0, 104.0, 136.0, 78.0, 344.0, 39.0, 44.0, 1.0, 5.0, 95.0, 2.0, 3.0, 79.0, 36.0, 25.0, 237.0, 7.0, 32.0, 63.0, 111.0, 35.0, 512.0, 455.0, 90.0, 175.0, 120.0, 272.0, 91.0, 61.0, 24.0, 84.0, 198.0, 28.0, 165.0, 296.0, 499.0, 243.0, 138.0, 13.0, 87.0, 73.0, 170.0, 70.0, 616.0, 83.0, 128.0, 14.0, 438.0, 102.0, 1122.0, 46.0, 335.0, 93.0, 145.0, 106.0, 342.0, 124.0, 16.0, 404.0, 694.0, 62.0, 80.0, 398.0, 242.0, 38.0, 60.0, 141.0, 18.0, 57.0, 131.0, 818.0, 130.0, 734.0, 310.0, 177.0, 103.0, 105.0, 53.0, 8.0, 82.0, 197.0, 149.0, 214.0, 153.0, 210.0, 109.0, 115.0, 110.0, 355.0, 31.0, 235.0, 2214.0, 113.0, 108.0, 76.0, 172.0, 353.0, 37.0, 904.0, 127.0, 184.0, 144.0, 56.0, 203.0, 329.0, 89.0, 277.0, 300.0, 88.0, 359.0, 595.0, 33.0, 194.0, 273.0, 327.0, 217.0, 860.0, 2622.0, 2182.0, 3448.0, 3050.0, 267.0, 297.0, 781.0, 724.0, 1737.0, 1051.0, 917.0, 196.0, 389.0, 399.0, 265.0, 137.0, 269.0, 317.0, 367.0, 123.0, 538.0, 465.0, 283.0, 226.0, 456.0, 176.0, 813.0, 47.0, 50.0, 294.0, 252.0, 92.0, 286.0, 305.0, 253.0, 454.0, 2662.0, 313.0, 67.0, 1849.0, 376.0, 769.0, 478.0, 449.0, 450.0, 362.0, 544.0, 159.0, 43.0, 687.0, 154.0, 75.0, 117.0, 490.0, 100.0, 118.0, 292.0, 152.0, 307.0, 158.0, 580.0, 213.0, 461.0, 151.0, 163.0, 386.0, 72.0, 796.0, 759.0, 182.0, 287.0, 122.0, 348.0, 338.0, 99.0, 142.0, 147.0, 761.0, 66.0, 204.0, 69.0, 1170.0, 280.0, 171.0, 686.0, 299.0, 510.0, 403.0, 185.0, 188.0, 467.0, 691.0, 209.0, 195.0, 298.0, 2974.0, 248.0, 545.0, 134.0, 937.0, 179.0, 1539.0, 489.0, 323.0, 285.0, 129.0, 279.0, 183.0, 97.0, 352.0, 187.0, 319.0, 460.0, 199.0, 350.0, 167.0, 918.0, 2475.0, 1763.0, 3385.0, 3323.0, 211.0, 397.0, 584.0, 589.0, 1422.0, 1867.0, 1228.0, 256.0, 401.0, 306.0, 421.0, 119.0, 290.0, 71.0, 363.0, 309.0, 542.0, 114.0, 472.0, 121.0, 133.0, 189.0, 408.0, 414.0, 726.0, 157.0, 522.0, 563.0, 578.0, 206.0, 112.0, 284.0, 434.0, 479.0, 2095.0, 169.0, 1553.0, 513.0, 85.0, 864.0, 383.0, 458.0, 609.0, 271.0, 550.0, 162.0, 407.0, 125.0, 230.0, 233.0, 447.0, 332.0, 370.0, 631.0, 496.0, 173.0, 415.0, 65.0, 375.0, 234.0, 312.0, 215.0, 236.0, 486.0, 301.0, 799.0, 288.0, 86.0, 262.0, 164.0, 268.0, 534.0, 181.0, 1333.0, 364.0, 229.0, 257.0, 261.0, 2365.0, 224.0, 368.0, 135.0, 361.0, 627.0, 960.0, 373.0, 322.0, 202.0, 221.0, 174.0, 470.0, 207.0, 357.0, 220.0, 391.0, 1358.0, 1464.0, 2725.0, 2586.0, 303.0, 320.0, 250.0, 865.0, 1272.0, 791.0, 218.0, 201.0, 281.0, 388.0, 481.0, 161.0, 227.0, 425.0, 427.0, 494.0, 634.0, 515.0, 270.0, 1087.0, 838.0, 395.0, 1081.0, 498.0, 98.0, 583.0, 385.0, 295.0, 446.0, 562.0, 139.0, 743.0, 241.0, 815.0, 148.0, 331.0, 216.0, 354.0, 143.0, 369.0, 1169.0, 240.0, 714.0, 553.0, 116.0, 670.0, 146.0, 228.0, 308.0, 2001.0, 437.0, 393.0, 557.0, 795.0, 1329.0, 483.0, 190.0, 255.0, 259.0, 477.0, 502.0, 936.0, 1175.0, 330.0, 191.0, 326.0, 166.0, 935.0, 430.0, 463.0, 907.0, 4426.0, 2569.0, 2929.0, 5003.0, 3321.0, 1205.0, 366.0, 1058.0, 480.0, 549.0, 1014.0, 1526.0, 598.0, 521.0, 491.0, 278.0, 200.0, 849.0, 304.0, 96.0, 223.0, 416.0, 168.0, 251.0, 523.0, 744.0, 435.0, 212.0, 384.0, 474.0, 254.0, 655.0, 291.0, 2130.0, 485.0, 703.0, 1214.0, 328.0, 315.0, 192.0, 345.0, 429.0, 535.0, 587.0, 2553.0, 3838.0, 5791.0, 5478.0, 699.0, 1355.0, 2034.0, 927.0, 150.0, 432.0, 1552.0, 436.0, 238.0, 232.0, 459.0, 1239.0, 1011.0, 337.0, 2828.0, 608.0, 1417.0, 861.0, 246.0, 333.0, 530.7, 57.46, 238.8, 648.0, 377.0, 347.0, 260.0, 819.0, 788.0, 231.0, 998.0, 878.0, 984.0, 365.0, 186.0, 2478.0, 405.0, 908.0, 894.0, 346.0, 536.0, 579.0, 439.0, 506.0, 628.0, 3115.0, 5593.0, 4857.0, 334.0, 371.0, 379.0, 830.0, 2709.0, 1164.0, 719.0, 832.0, 448.0, 1457.0, 1102.0, 402.0, 3527.0, 806.0, 812.0, 493.0, 575.0, 321.0, 1319.0, 247.0, 833.0, 266.0, 492.0, 343.0, 275.0, 992.0, 2198.0, 749.0, 497.0, 222.0, 400.0, 208.0, 511.0, 692.0, 632.0, 696.0, 1162.0, 653.0, 4199.0, 574.0, 901.0, 1145.0, 468.0, 570.0, 926.0, 417.0, 360.0, 7612.0, 4163.0, 7006.0, 4110.0, 381.0, 903.0, 1372.0, 1542.0, 5331.0, 1269.0, 180.0, 654.0, 677.0, 782.0, 411.0, 597.0, 729.0, 394.0, 572.0, 358.0, 1770.0, 1071.0]"
        ],
        [
         "3",
         "distrito",
         "object",
         "397",
         "0",
         "0.0%",
         "3395",
         "99.9%",
         "['Alajuela', 'San José', 'Carrizal', 'San Antonio', 'Guácima', 'San Isidro', 'Sabanilla', 'San Rafael', 'Río Segundo', 'Desamparados', 'Turrúcares', 'Tambor', 'Garita', 'Sarapiquí', 'San Ramón', 'Santiago', 'San Juan', 'Piedades Norte', 'Piedades Sur', 'Ángeles', 'Alfaro', 'Volio', 'Concepción', 'Zapotal', 'Peñas Blancas', 'Grecia', 'San Roque', 'Tacares', 'Río Cuarto', 'Puente De Piedra', 'Bolivar', 'San Mateo', 'Desmonte', 'Jesús María', 'Labrador', 'Atenas', 'Jesús', 'Mercedes', 'Santa Eulalia', 'Escobal', 'Naranjo', 'San Miguel', 'Cirrí Sur', 'San Jerónimo', 'El Rosario', 'Palmitos', 'Palmares', 'Zaragoza', 'Buenos Aires', 'Candelaria', 'Esquipulas', 'La Granja', 'San Pedro', 'Carrillos', 'Sabana Redonda', 'Orotina', 'El Mastate', 'Hacienda Vieja', 'Coyolar', 'La Ceiba', 'Quesada', 'Florencia', 'Buenavista', 'Aguas Zarcas', 'Venecia', 'Pital', 'La Fortuna', 'La Tigra', 'La Palmera', 'Venado', 'Cutris', 'Monterrey', 'Pocosol', 'Zarcero', 'Laguna', 'Tapesco', 'Guadalupe', 'Palmira', 'Zapote', 'Brisas', 'Sarchí Norte', 'Sarchí Sur', 'Tora Amarillo', 'Rodríguez', 'Upala', 'Aguas Claras', 'Bijagua', 'Delicias', 'Dos Ríos', 'Yolillal', 'Canalete', 'Los Chiles', 'Caño Negro', 'El Amparo', 'San Jorge', 'Cote', 'Katira', 'Oriental', 'Occidental', 'Carmen', 'San Nicolás', 'Aguacaliente', 'Corralillo', 'Tierra Blanca', 'Dulce Nombre', 'Llano Grande', 'Quebradilla', 'Paraíso', 'Orosi', 'Cachí', 'Llanos De Santa Lucía', 'Tres Ríos', 'San Diego', 'Río Azul', 'Juan Viñas', 'Tucurrique', 'Pejibaye', 'Turrialba', 'La Suiza', 'Peralta', 'Santa Cruz', 'Santa Teresita', 'Pavones', 'Tuis', 'Tayutic', 'Santa Rosa', 'Tres Equis', 'La Isabel', 'Chirripó', 'Pacayas', 'Cervantes', 'Capellades', 'Cot', 'Potrero Cerrado', 'Cipreses', 'El Tejar', 'Tobosi', 'Patio De Agua', 'Liberia', 'Cañas Dulces', 'Mayorga', 'Nacascolo', 'Curubandé', 'Nicoya', 'Mansión', 'Quebrada Honda', 'Sámara', 'Nosara', 'Belén De Nosarita', 'Bolsón', 'Veintisiete De Abril', 'Tempate', 'Cartagena', 'Cuajiniquil', 'Diriá', 'Cabo Velas', 'Tamarindo', 'Bagaces', 'Mogote', 'Río Naranjo', 'Filadelfia', 'Sardinal', 'Belén', 'Cañas', 'Bebedero', 'Porozal', 'Las Juntas', 'Sierra', 'Colorado', 'Tilarán', 'Quebrada Grande', 'Tronadora', 'Líbano', 'Tierras Morenas', 'Arenal', 'Carmona', 'Santa Rita', 'San Pablo', 'Porvenir', 'Bejuco', 'La Cruz', 'Santa Cecilia', 'La Garita', 'Santa Elena', 'Hojancha', 'Monte Romo', 'Puerto Carrillo', 'Huacas', 'Heredia', 'San Francisco', 'Ulloa', 'Varablanca', 'Barva', 'Santa Lucía', 'San José De La Montaña', 'Santo Domingo', 'San Vicente', 'Paracito', 'Santo Tomás', 'Tures', 'Pará', 'Santa Bárbara', 'Purabá', 'San Josecito', 'La Ribera', 'La Asunción', 'San Joaquín', 'Barrantes', 'Llorente', 'Rincón De Sabanilla', 'Puerto Viejo', 'La Virgen', 'Las Horquetas', 'Llanuras Del Gaspar', 'Cureña', 'Limón', 'Valle De La Estrella', 'Río Blanco', 'Matama', 'Guápiles', 'Jiménez', 'Rita', 'Roxana', 'Cariari', 'La Colonia', 'Siquirres', 'Pacuarito', 'Florida', 'Germania', 'El Cairo', 'La Alegría', 'Bratsi', 'Sixaola', 'Cahuita', 'Telire', 'Matina', 'Batán', 'Carrandi', 'Guácimo', 'Pocora', 'Río Jiménes', 'Duacarí', 'Puntarenas', 'Pitahaya', 'Chomes', 'Lepanto', 'Paquera', 'Manzanillo', 'Guacimal', 'Barranca', 'Monte Verde', 'Isla Del Coco', 'Cóbano', 'Chacarita', 'Chira', 'Acapulco', 'El Roble', 'Arancibia', 'Espíritu Santo', 'San Juan Grande', 'Macacona', 'Caldera', 'Volcán', 'Potrero Grande', 'Boruca', 'Pilas', 'Colinas', 'Chánguena', 'Biolley', 'Brunka', 'Miramar', 'La Unión', 'Puerto Cortés', 'Palmar', 'Sierpe', 'Bahía Ballena', 'Piedras Blancas', 'Bahía Drake', 'Quepos', 'Savegre', 'Naranjito', 'Golfito', 'Puerto Jiménez', 'Guaycará', 'Pavón', 'San Vito', 'Sabalito', 'Aguabuena', 'Limoncito', 'Pittier', 'Gutierrez Brown', 'Parrita', 'Corredor', 'La Cuesta', 'Canoas', 'Laurel', 'Jacó', 'Tárcoles', 'El Carmen', 'Merced', 'Hospital', 'Catedral', 'San Francisco De Dos Ríos', 'Uruca', 'Mata Redonda', 'Pavas', 'Hatillo', 'San Sebastián', 'Escazú', 'San Juan De Dios', 'San Rafael Arriba', 'Frailes', 'Patarrá', 'San Cristobal', 'Rosario', 'Damas', 'San Rafael Abajo', 'Gravilias', 'Los Guido', 'Mercedes Sur', 'Barbacoas', 'Grifo Alto', 'Candelarita', 'Desamparaditos', 'Chires', 'San Marcos', 'San Lorenzo', 'San Carlos', 'Aserrí', 'Tarbaca', 'Vuelta De Jorco', 'San Gabriel', 'Legua', 'Salitrillos', 'Colón', 'Guayabo', 'Tabarcia', 'Piedras Negras', 'Picagres', 'Jaris', 'Quitirrisi', 'Calle Blancos', 'Mata De Plátano', 'Ipís', 'Rancho Redondo', 'Purral', 'Santa Ana', 'Salitral', 'Pozos', 'Piedades', 'Brasil', 'Alajuelita', 'San Felipe', 'Dulce Nombre De Jesús', 'Patalillo', 'Cascajal', 'San Ignacio', 'Guaitil', 'Palmichal', 'Cangrejal', 'Sabanillas', 'Cinco Esquinas', 'Anselmo Llorente', 'León Xiii', 'Colima', 'La Trinidad', 'San Juan De Mata', 'San Luis', 'Carara', 'Santa María', 'Jardín', 'Copey', 'Curridabat', 'Granadilla', 'Sánchez', 'Tirrases', 'San Isidro De El General', 'El General', 'Daniel Flores', 'Rivas', 'Platanares', 'Cajón', 'Barú', 'Río Nuevo', 'Páramo', 'San Andrés', 'Llano Bonito', 'No Indica', 'Costa Pacífica', 'Costa Atlántica', 'Rio Cuarto', 'Santa Isabel', 'Río Jiménez', 'Bolívar', 'León XIII', 'La Amistad', 'no indica']"
        ],
        [
         "10",
         "crack_eventos",
         "float64",
         "305",
         "0",
         "0.0%",
         "3256",
         "95.8%",
         "[350.0, 164.0, 15.0, 66.0, 55.0, 6.0, 7.0, 146.0, 61.0, 42.0, 69.0, 0.0, 1.0, 107.0, 41.0, 4.0, 3.0, 2.0, 86.0, 5.0, 19.0, 37.0, 9.0, 119.0, 11.0, 17.0, 22.0, 57.0, 28.0, 31.0, 35.0, 8.0, 63.0, 18.0, 73.0, 76.0, 109.0, 71.0, 12.0, 26.0, 23.0, 137.0, 51.0, 68.0, 16.0, 25.0, 104.0, 100.0, 14.0, 103.0, 33.0, 154.0, 84.0, 50.0, 40.0, 49.0, 21.0, 150.0, 46.0, 44.0, 246.0, 53.0, 72.0, 59.0, 30.0, 83.0, 27.0, 203.0, 222.0, 47.0, 138.0, 112.0, 10.0, 36.0, 13.0, 79.0, 39.0, 213.0, 43.0, 24.0, 32.0, 264.0, 82.0, 90.0, 75.0, 65.0, 242.0, 375.0, 874.0, 517.0, 497.0, 180.0, 288.0, 424.0, 176.0, 48.0, 93.0, 67.0, 34.0, 77.0, 141.0, 206.0, 20.0, 125.0, 56.0, 94.0, 80.0, 126.0, 62.0, 331.0, 370.0, 289.0, 60.0, 155.0, 161.0, 230.0, 208.0, 54.0, 58.0, 167.0, 123.0, 91.0, 99.0, 81.0, 152.0, 257.0, 139.0, 29.0, 248.0, 148.0, 105.0, 64.0, 243.0, 244.0, 132.0, 189.0, 110.0, 229.0, 85.0, 45.0, 170.0, 116.0, 309.0, 829.0, 549.0, 416.0, 209.0, 505.0, 550.0, 157.0, 111.0, 131.0, 101.0, 38.0, 193.0, 457.0, 225.0, 121.0, 149.0, 87.0, 255.0, 130.0, 52.0, 158.0, 198.0, 98.0, 74.0, 96.0, 215.0, 106.0, 185.0, 102.0, 308.0, 762.0, 492.0, 399.0, 348.0, 374.0, 173.0, 115.0, 143.0, 118.0, 114.0, 460.0, 135.0, 197.0, 175.0, 70.0, 313.0, 178.0, 89.0, 129.0, 192.0, 182.0, 247.0, 253.0, 151.0, 147.0, 291.0, 311.0, 455.0, 120.0, 128.0, 136.0, 187.0, 733.0, 1004.0, 893.0, 1687.0, 753.0, 314.0, 295.0, 899.0, 341.0, 124.0, 287.0, 97.0, 140.0, 462.0, 310.0, 88.0, 273.0, 168.0, 282.0, 194.0, 300.0, 344.0, 227.0, 468.0, 142.0, 214.0, 224.0, 393.0, 2676.0, 1474.0, 779.0, 153.0, 935.0, 827.0, 299.0, 205.0, 363.0, 1649.0, 418.0, 133.0, 221.0, 145.0, 495.0, 179.0, 108.0, 420.0, 78.0, 231.0, 184.0, 487.0, 339.0, 369.0, 364.0, 365.0, 293.0, 199.0, 315.0, 478.0, 2299.0, 2233.0, 1115.0, 544.0, 1008.0, 434.0, 201.0, 551.0, 1438.0, 414.0, 156.0, 196.0, 144.0, 316.0, 234.0, 283.0, 250.0, 330.0, 92.0, 429.0, 329.0, 188.0, 290.0, 359.0, 342.0, 217.0, 190.0, 427.0, 202.0, 279.0, 122.0, 849.0, 3225.0, 2620.0, 714.0, 469.0, 540.0, 1285.0, 439.0, 318.0, 160.0, 541.0]"
        ],
        [
         "8",
         "cocaína_eventos",
         "float64",
         "211",
         "0",
         "0.0%",
         "3308",
         "97.4%",
         "[100.0, 74.0, 3.0, 39.0, 21.0, 5.0, 54.0, 78.0, 26.0, 6.0, 56.0, 1.0, 0.0, 36.0, 10.0, 2.0, 18.0, 8.0, 13.0, 14.0, 32.0, 12.0, 17.0, 4.0, 11.0, 40.0, 9.0, 47.0, 7.0, 24.0, 30.0, 33.0, 43.0, 22.0, 19.0, 28.0, 29.0, 88.0, 23.0, 165.0, 31.0, 65.0, 67.0, 210.0, 93.0, 37.0, 60.0, 109.0, 127.0, 34.0, 25.0, 53.0, 243.0, 44.0, 83.0, 15.0, 75.0, 45.0, 63.0, 16.0, 544.0, 248.0, 368.0, 518.0, 369.0, 128.0, 317.0, 323.0, 195.0, 57.0, 71.0, 105.0, 66.0, 20.0, 38.0, 49.0, 59.0, 41.0, 129.0, 118.0, 161.0, 144.0, 51.0, 46.0, 157.0, 62.0, 58.0, 50.0, 27.0, 48.0, 201.0, 117.0, 106.0, 281.0, 99.0, 87.0, 82.0, 319.0, 287.0, 282.0, 505.0, 419.0, 35.0, 133.0, 240.0, 494.0, 225.0, 111.0, 76.0, 95.0, 98.0, 164.0, 112.0, 156.0, 89.0, 141.0, 172.0, 235.0, 52.0, 101.0, 42.0, 73.0, 140.0, 262.0, 347.0, 122.0, 189.0, 403.0, 69.0, 81.0, 72.0, 113.0, 94.0, 70.0, 55.0, 61.0, 92.0, 77.0, 180.0, 178.0, 182.0, 85.0, 137.0, 68.0, 499.0, 107.0, 1011.0, 509.0, 415.0, 327.0, 229.0, 184.0, 197.0, 154.0, 232.0, 160.0, 126.0, 84.0, 90.0, 222.0, 561.0, 659.0, 606.0, 324.0, 712.0, 220.0, 169.0, 131.0, 314.0, 168.0, 80.0, 103.0, 96.0, 339.0, 249.0, 188.0, 102.0, 294.0, 413.0, 710.0, 703.0, 175.0, 239.0, 694.0, 251.0, 321.0, 151.0, 119.0, 316.0, 167.0, 124.0, 223.0, 162.0, 271.0, 333.0, 120.0, 147.0, 108.0, 181.0, 780.0, 554.0, 913.0, 594.0, 335.0, 1293.0, 254.0, 258.0, 91.0, 64.0, 130.0, 146.0]"
        ],
        [
         "2",
         "cantón",
         "object",
         "93",
         "0",
         "0.0%",
         "3396",
         "99.9%",
         "['Alajuela', 'San Ramón', 'Grecia', 'San Mateo', 'Atenas', 'Naranjo', 'Palmares', 'Poás', 'Orotina', 'San Carlos', 'Zarcero', 'Valverde Vega', 'Upala', 'Los Chiles', 'Guatuso', 'Cartago', 'Paraíso', 'La Unión', 'Jiménez', 'Turrialba', 'Alvarado', 'Oreamuno', 'El Guarco', 'Liberia', 'Nicoya', 'Santa Cruz', 'Bagaces', 'Carrillo', 'Cañas', 'Abangares', 'Tilarán', 'Nandayure', 'La Cruz', 'Hojancha', 'Heredia', 'Barva', 'Santo Domingo', 'Santa Bárbara', 'San Rafael', 'San Isidro', 'Belén', 'Flores', 'San Pablo', 'Sarapiquí', 'Limón', 'Pococí', 'Siquirres', 'Talamanca', 'Matina', 'Guácimo', 'Puntarenas', 'Esparza', 'Buenos Aires', 'Montes De Oro', 'Osa', 'Aguirre', 'Golfito', 'Coto Brus', 'Parrita', 'Corredores', 'Garabito', 'San José', 'Escazú', 'Desamparados', 'Puriscal', 'Tarrazú', 'Aserrí', 'Mora', 'Goicoechea', 'Santa Ana', 'Alajuelita', 'Vázquez De Coronado', 'Acosta', 'Tibás', 'Moravia', 'Montes De Oca', 'Turrubares', 'Dota', 'Curridabat', 'Pérez Zeledón', 'León Cortés Castro', 'No Indica', 'Costa Pacífica', 'Costa Atlántica', 'Río Cuarto', 'Jimenez', 'Rio Cuarto', 'Sarchí', 'Monte Verde', 'Montes de Oro', 'Quepos', 'Montes de Oca', 'no indica']"
        ],
        [
         "1",
         "provincia",
         "object",
         "12",
         "0",
         "0.0%",
         "3397",
         "100.0%",
         "['Alajuela', 'Cartago', 'Guanacaste', 'Heredia', 'Limón', 'Puntarenas', 'San José', 'no indica', 'Costa Pacífica', 'Costa Atlántica', 'No indica', 'No Indica']"
        ],
        [
         "4",
         "year",
         "Int64",
         "7",
         "0",
         "0.0%",
         "3398",
         "100.0%",
         "[2018, 2019, 2020, 2021, 2022, 2023, 2024]"
        ],
        [
         "6",
         "homicidios_país_año",
         "float64",
         "7",
         "0",
         "0.0%",
         "3398",
         "100.0%",
         "[585.0, 564.0, 570.0, 588.0, 654.0, 905.0, 880.0]"
        ],
        [
         "5",
         "habitantes_país",
         "float64",
         "7",
         "0",
         "0.0%",
         "3398",
         "100.0%",
         "[5003393.0, 5057999.0, 5111238.0, 5163038.0, 5213274.0, 5262237.0, 5309625.0]"
        ],
        [
         "7",
         "tasa_100mil_país",
         "float64",
         "6",
         "0",
         "0.0%",
         "3398",
         "100.0%",
         "[11.7, 11.2, 11.4, 12.5, 17.2, 16.6]"
        ],
        [
         "0",
         "país",
         "object",
         "1",
         "0",
         "0.0%",
         "3398",
         "100.0%",
         "['Costa Rica']"
        ]
       ],
       "shape": {
        "columns": 8,
        "rows": 14
       }
      },
      "text/html": [
       "<div>\n",
       "<style scoped>\n",
       "    .dataframe tbody tr th:only-of-type {\n",
       "        vertical-align: middle;\n",
       "    }\n",
       "\n",
       "    .dataframe tbody tr th {\n",
       "        vertical-align: top;\n",
       "    }\n",
       "\n",
       "    .dataframe thead th {\n",
       "        text-align: right;\n",
       "    }\n",
       "</style>\n",
       "<table border=\"1\" class=\"dataframe\">\n",
       "  <thead>\n",
       "    <tr style=\"text-align: right;\">\n",
       "      <th></th>\n",
       "      <th>Variable</th>\n",
       "      <th>Dtype</th>\n",
       "      <th>Unique_Count</th>\n",
       "      <th>NA_Count</th>\n",
       "      <th>NA_Percentage</th>\n",
       "      <th>Duplicate_Count</th>\n",
       "      <th>Duplicate_Percentage</th>\n",
       "      <th>Unique_Values</th>\n",
       "    </tr>\n",
       "  </thead>\n",
       "  <tbody>\n",
       "    <tr>\n",
       "      <th>13</th>\n",
       "      <td>marihuana_(kg)</td>\n",
       "      <td>float64</td>\n",
       "      <td>2651</td>\n",
       "      <td>0</td>\n",
       "      <td>0.0%</td>\n",
       "      <td>976</td>\n",
       "      <td>28.7%</td>\n",
       "      <td>[3.79137949254408, 8.64565, 0.13497, 1.28543, ...</td>\n",
       "    </tr>\n",
       "    <tr>\n",
       "      <th>11</th>\n",
       "      <td>crack_(piedras)</td>\n",
       "      <td>float64</td>\n",
       "      <td>1511</td>\n",
       "      <td>0</td>\n",
       "      <td>0.0%</td>\n",
       "      <td>2217</td>\n",
       "      <td>65.2%</td>\n",
       "      <td>[9051.13333333333, 17697.2222222222, 87.0, 780...</td>\n",
       "    </tr>\n",
       "    <tr>\n",
       "      <th>9</th>\n",
       "      <td>cocaína_(kg)</td>\n",
       "      <td>float64</td>\n",
       "      <td>1287</td>\n",
       "      <td>0</td>\n",
       "      <td>0.0%</td>\n",
       "      <td>2316</td>\n",
       "      <td>68.2%</td>\n",
       "      <td>[0.1469, 0.23475, 0.0015, 0.1175, 0.03345, 0.8...</td>\n",
       "    </tr>\n",
       "    <tr>\n",
       "      <th>12</th>\n",
       "      <td>marihuana_eventos</td>\n",
       "      <td>float64</td>\n",
       "      <td>632</td>\n",
       "      <td>0</td>\n",
       "      <td>0.0%</td>\n",
       "      <td>3120</td>\n",
       "      <td>91.8%</td>\n",
       "      <td>[842.0, 249.0, 55.0, 336.0, 219.0, 27.0, 77.0,...</td>\n",
       "    </tr>\n",
       "    <tr>\n",
       "      <th>3</th>\n",
       "      <td>distrito</td>\n",
       "      <td>object</td>\n",
       "      <td>397</td>\n",
       "      <td>0</td>\n",
       "      <td>0.0%</td>\n",
       "      <td>3395</td>\n",
       "      <td>99.9%</td>\n",
       "      <td>[Alajuela, San José, Carrizal, San Antonio, Gu...</td>\n",
       "    </tr>\n",
       "    <tr>\n",
       "      <th>10</th>\n",
       "      <td>crack_eventos</td>\n",
       "      <td>float64</td>\n",
       "      <td>305</td>\n",
       "      <td>0</td>\n",
       "      <td>0.0%</td>\n",
       "      <td>3256</td>\n",
       "      <td>95.8%</td>\n",
       "      <td>[350.0, 164.0, 15.0, 66.0, 55.0, 6.0, 7.0, 146...</td>\n",
       "    </tr>\n",
       "    <tr>\n",
       "      <th>8</th>\n",
       "      <td>cocaína_eventos</td>\n",
       "      <td>float64</td>\n",
       "      <td>211</td>\n",
       "      <td>0</td>\n",
       "      <td>0.0%</td>\n",
       "      <td>3308</td>\n",
       "      <td>97.4%</td>\n",
       "      <td>[100.0, 74.0, 3.0, 39.0, 21.0, 5.0, 54.0, 78.0...</td>\n",
       "    </tr>\n",
       "    <tr>\n",
       "      <th>2</th>\n",
       "      <td>cantón</td>\n",
       "      <td>object</td>\n",
       "      <td>93</td>\n",
       "      <td>0</td>\n",
       "      <td>0.0%</td>\n",
       "      <td>3396</td>\n",
       "      <td>99.9%</td>\n",
       "      <td>[Alajuela, San Ramón, Grecia, San Mateo, Atena...</td>\n",
       "    </tr>\n",
       "    <tr>\n",
       "      <th>1</th>\n",
       "      <td>provincia</td>\n",
       "      <td>object</td>\n",
       "      <td>12</td>\n",
       "      <td>0</td>\n",
       "      <td>0.0%</td>\n",
       "      <td>3397</td>\n",
       "      <td>100.0%</td>\n",
       "      <td>[Alajuela, Cartago, Guanacaste, Heredia, Limón...</td>\n",
       "    </tr>\n",
       "    <tr>\n",
       "      <th>4</th>\n",
       "      <td>year</td>\n",
       "      <td>Int64</td>\n",
       "      <td>7</td>\n",
       "      <td>0</td>\n",
       "      <td>0.0%</td>\n",
       "      <td>3398</td>\n",
       "      <td>100.0%</td>\n",
       "      <td>[2018, 2019, 2020, 2021, 2022, 2023, 2024]</td>\n",
       "    </tr>\n",
       "    <tr>\n",
       "      <th>6</th>\n",
       "      <td>homicidios_país_año</td>\n",
       "      <td>float64</td>\n",
       "      <td>7</td>\n",
       "      <td>0</td>\n",
       "      <td>0.0%</td>\n",
       "      <td>3398</td>\n",
       "      <td>100.0%</td>\n",
       "      <td>[585.0, 564.0, 570.0, 588.0, 654.0, 905.0, 880.0]</td>\n",
       "    </tr>\n",
       "    <tr>\n",
       "      <th>5</th>\n",
       "      <td>habitantes_país</td>\n",
       "      <td>float64</td>\n",
       "      <td>7</td>\n",
       "      <td>0</td>\n",
       "      <td>0.0%</td>\n",
       "      <td>3398</td>\n",
       "      <td>100.0%</td>\n",
       "      <td>[5003393.0, 5057999.0, 5111238.0, 5163038.0, 5...</td>\n",
       "    </tr>\n",
       "    <tr>\n",
       "      <th>7</th>\n",
       "      <td>tasa_100mil_país</td>\n",
       "      <td>float64</td>\n",
       "      <td>6</td>\n",
       "      <td>0</td>\n",
       "      <td>0.0%</td>\n",
       "      <td>3398</td>\n",
       "      <td>100.0%</td>\n",
       "      <td>[11.7, 11.2, 11.4, 12.5, 17.2, 16.6]</td>\n",
       "    </tr>\n",
       "    <tr>\n",
       "      <th>0</th>\n",
       "      <td>país</td>\n",
       "      <td>object</td>\n",
       "      <td>1</td>\n",
       "      <td>0</td>\n",
       "      <td>0.0%</td>\n",
       "      <td>3398</td>\n",
       "      <td>100.0%</td>\n",
       "      <td>[Costa Rica]</td>\n",
       "    </tr>\n",
       "  </tbody>\n",
       "</table>\n",
       "</div>"
      ],
      "text/plain": [
       "               Variable    Dtype  Unique_Count  NA_Count NA_Percentage  \\\n",
       "13       marihuana_(kg)  float64          2651         0          0.0%   \n",
       "11      crack_(piedras)  float64          1511         0          0.0%   \n",
       "9          cocaína_(kg)  float64          1287         0          0.0%   \n",
       "12    marihuana_eventos  float64           632         0          0.0%   \n",
       "3              distrito   object           397         0          0.0%   \n",
       "10        crack_eventos  float64           305         0          0.0%   \n",
       "8       cocaína_eventos  float64           211         0          0.0%   \n",
       "2                cantón   object            93         0          0.0%   \n",
       "1             provincia   object            12         0          0.0%   \n",
       "4                  year    Int64             7         0          0.0%   \n",
       "6   homicidios_país_año  float64             7         0          0.0%   \n",
       "5       habitantes_país  float64             7         0          0.0%   \n",
       "7      tasa_100mil_país  float64             6         0          0.0%   \n",
       "0                  país   object             1         0          0.0%   \n",
       "\n",
       "    Duplicate_Count Duplicate_Percentage  \\\n",
       "13              976                28.7%   \n",
       "11             2217                65.2%   \n",
       "9              2316                68.2%   \n",
       "12             3120                91.8%   \n",
       "3              3395                99.9%   \n",
       "10             3256                95.8%   \n",
       "8              3308                97.4%   \n",
       "2              3396                99.9%   \n",
       "1              3397               100.0%   \n",
       "4              3398               100.0%   \n",
       "6              3398               100.0%   \n",
       "5              3398               100.0%   \n",
       "7              3398               100.0%   \n",
       "0              3398               100.0%   \n",
       "\n",
       "                                        Unique_Values  \n",
       "13  [3.79137949254408, 8.64565, 0.13497, 1.28543, ...  \n",
       "11  [9051.13333333333, 17697.2222222222, 87.0, 780...  \n",
       "9   [0.1469, 0.23475, 0.0015, 0.1175, 0.03345, 0.8...  \n",
       "12  [842.0, 249.0, 55.0, 336.0, 219.0, 27.0, 77.0,...  \n",
       "3   [Alajuela, San José, Carrizal, San Antonio, Gu...  \n",
       "10  [350.0, 164.0, 15.0, 66.0, 55.0, 6.0, 7.0, 146...  \n",
       "8   [100.0, 74.0, 3.0, 39.0, 21.0, 5.0, 54.0, 78.0...  \n",
       "2   [Alajuela, San Ramón, Grecia, San Mateo, Atena...  \n",
       "1   [Alajuela, Cartago, Guanacaste, Heredia, Limón...  \n",
       "4          [2018, 2019, 2020, 2021, 2022, 2023, 2024]  \n",
       "6   [585.0, 564.0, 570.0, 588.0, 654.0, 905.0, 880.0]  \n",
       "5   [5003393.0, 5057999.0, 5111238.0, 5163038.0, 5...  \n",
       "7                [11.7, 11.2, 11.4, 12.5, 17.2, 16.6]  \n",
       "0                                        [Costa Rica]  "
      ]
     },
     "metadata": {},
     "output_type": "display_data"
    }
   ],
   "source": [
    "import pandas as pd\n",
    "from openpyxl import Workbook\n",
    "from openpyxl.utils.dataframe import dataframe_to_rows\n",
    "\n",
    "def get_dataframe_summary(merged_df, output_path='data/results/merged_summary-2018-2024.xlsx'):\n",
    "    # --- General DataFrame Info ---\n",
    "    general_info = {\n",
    "        \"Shape\": f\"{merged_df.shape[0]} rows × {merged_df.shape[1]} cols\",\n",
    "        \"Memory Usage\": f\"{merged_df.memory_usage(deep=True).sum() / (1024 ** 2):.2f} MB\",\n",
    "        \"Columns with NA\": f\"{merged_df.isna().any().sum()} / {len(merged_df.columns)}\",\n",
    "        \"Duplicate Rows\": f\"{merged_df.duplicated().sum()} ({(merged_df.duplicated().mean() * 100):.1f}%)\",\n",
    "        \"Numeric Columns\": f\"{merged_df.select_dtypes(include='number').shape[1]}\",\n",
    "        \"Categorical Columns\": f\"{merged_df.select_dtypes(include=['object', 'category']).shape[1]}\",\n",
    "        \"Datetime Columns\": f\"{merged_df.select_dtypes(include='datetime').shape[1]}\"\n",
    "    }\n",
    "\n",
    "    # --- Column-Level Stats ---\n",
    "    column_stats = pd.DataFrame({\n",
    "        'Variable': merged_df.columns,\n",
    "        'Dtype': merged_df.dtypes.values,\n",
    "        'Unique_Count': merged_df.nunique().values,\n",
    "        'NA_Count': merged_df.isna().sum().values,\n",
    "        'NA_Percentage': (merged_df.isna().mean() * 100).round(1).values,\n",
    "        'Duplicate_Count': merged_df.apply(lambda col: col.duplicated(keep=False).sum()).values,\n",
    "        'Duplicate_Percentage': (merged_df.apply(lambda col: col.duplicated(keep=False).mean()) * 100).round(1).values,\n",
    "        'Unique_Values': merged_df.apply(lambda x: x.drop_duplicates().tolist()).values\n",
    "    }).sort_values('Unique_Count', ascending=False)\n",
    "\n",
    "\n",
    "    # Format percentages\n",
    "    column_stats['NA_Percentage'] = column_stats['NA_Percentage'].astype(str) + '%'\n",
    "    column_stats['Duplicate_Percentage'] = column_stats['Duplicate_Percentage'].astype(str) + '%'\n",
    "    \n",
    "# --- Save to Excel ---\n",
    "    with pd.ExcelWriter(output_path, engine='openpyxl') as writer:\n",
    "        # Save general info to first sheet\n",
    "        pd.DataFrame.from_dict(general_info, orient='index', columns=['Value'])\\\n",
    "            .to_excel(writer, sheet_name='General Info')\n",
    "        \n",
    "        # Save column stats to second sheet\n",
    "        column_stats.to_excel(writer, sheet_name='Column Stats', index=False)\n",
    "        \n",
    "        # Auto-adjust column widths\n",
    "        for sheet_name in writer.sheets:\n",
    "            sheet = writer.sheets[sheet_name]\n",
    "            for column in sheet.columns:\n",
    "                max_length = 0\n",
    "                column_letter = column[0].column_letter\n",
    "                for cell in column:\n",
    "                    try:\n",
    "                        if len(str(cell.value)) > max_length:\n",
    "                            max_length = len(str(cell.value))\n",
    "                    except:\n",
    "                        pass\n",
    "                adjusted_width = (max_length + 2)\n",
    "                sheet.column_dimensions[column_letter].width = adjusted_width\n",
    "\n",
    "    print(f\"✓ Summary saved to {output_path}\")\n",
    "    return general_info, column_stats\n",
    "\n",
    "# Run the summary\n",
    "general_info, column_stats = get_dataframe_summary(merged_df)\n",
    "\n",
    "# Print General Info\n",
    "print(\"=== GENERAL DATAFRAME INFO ===\")\n",
    "for key, value in general_info.items():\n",
    "    print(f\"{key}: {value}\")\n",
    "\n",
    "# Display Column Stats (including dropdown options)\n",
    "print(\"\\n=== COLUMN-LEVEL STATISTICS ===\")\n",
    "display(column_stats)\n"
   ]
  }
 ],
 "metadata": {
  "kernelspec": {
   "display_name": "venv-cr",
   "language": "python",
   "name": "python3"
  },
  "language_info": {
   "codemirror_mode": {
    "name": "ipython",
    "version": 3
   },
   "file_extension": ".py",
   "mimetype": "text/x-python",
   "name": "python",
   "nbconvert_exporter": "python",
   "pygments_lexer": "ipython3",
   "version": "3.12.10"
  }
 },
 "nbformat": 4,
 "nbformat_minor": 5
}
